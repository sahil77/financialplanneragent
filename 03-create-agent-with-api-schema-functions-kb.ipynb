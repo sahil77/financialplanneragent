{
 "cells": [
  {
   "cell_type": "markdown",
   "id": "c55b33be-98be-4c48-99de-99e5e2ec163d",
   "metadata": {},
   "source": [
    "# Create and Invoke Agent via Boto3 SDK\n",
    "\n",
    "> *This notebook should work well with the **`Data Science 3.0`** kernel in SageMaker Studio*"
   ]
  },
  {
   "cell_type": "markdown",
   "id": "9d7392ac-61be-4b9b-bc7b-f48de8282c7b",
   "metadata": {},
   "source": [
    "## Introduction\n",
    "\n",
    "In this notebook we show you how to use the `bedrock-agent` and the `bedrock-agent-runtime` boto3 clients to:\n",
    "- create an agent\n",
    "- create an action group using an API Schema (vs using function definitions)\n",
    "- associate the agent with the action group and prepare the agent\n",
    "- create an agent alias\n",
    "- invoke the agent\n",
    "\n",
    "We will use Bedrock's Claude Sonnet using the Boto3 API. \n",
    "\n",
    "**Note:** *This notebook can be used in SageMaker Studio or run locally if you setup your AWS credentials.*\n",
    "\n",
    "#### Prerequisites\n",
    "This notebook requires permissions to: \n",
    "- create and delete Amazon IAM roles\n",
    "- create, update and invoke AWS Lambda functions \n",
    "- create, update and delete Amazon S3 buckets \n",
    "- access Amazon Bedrock \n",
    "\n",
    "If you are running this notebook without an Admin role, make sure that your role include the following managed policies:\n",
    "- IAMFullAccess\n",
    "- AWSLambda_FullAccess\n",
    "- AmazonS3FullAccess\n",
    "- AmazonBedrockFullAccess\n",
    "\n",
    "\n",
    "#### Context\n",
    "We will demonstrate how to create and invoke an agent for Bedrock using the Boto3 SDK\n",
    "\n",
    "#### Use case\n",
    "For this notebook, our agent acts as an assistant for an insurance claims use case. The agent helps the insurance employee to check open claims, identify the details for a specific claim, get open documents for a claim and send reminders to a claim policyholder.\n",
    "\n",
    "The Agent created can handle the follow tasks or combinations of these in a multi-step process:\n",
    "- Get Open Claims\n",
    "- Get Claim Details\n",
    "- Get Claim Outstanding Documents\n",
    "- Send Claim reminder"
   ]
  },
  {
   "cell_type": "markdown",
   "id": "5463f03b-7f8b-4a95-a7c8-0caa46d6ae4b",
   "metadata": {},
   "source": [
    "## Notebook setup\n",
    "Before starting, let's import the required packages and configure the support variables"
   ]
  },
  {
   "cell_type": "code",
   "execution_count": 2,
   "id": "1b5428e2-37d0-4199-a234-33521ec995ad",
   "metadata": {
    "tags": []
   },
   "outputs": [],
   "source": [
    "import logging\n",
    "import boto3\n",
    "import time\n",
    "import zipfile\n",
    "from io import BytesIO\n",
    "import json\n",
    "import uuid\n",
    "import pprint"
   ]
  },
  {
   "cell_type": "code",
   "execution_count": 3,
   "id": "ea10158d-adb7-463e-ae3e-df72da6e850b",
   "metadata": {
    "tags": []
   },
   "outputs": [],
   "source": [
    "# setting logger\n",
    "logging.basicConfig(format='[%(asctime)s] p%(process)s {%(filename)s:%(lineno)d} %(levelname)s - %(message)s', level=logging.INFO)\n",
    "logger = logging.getLogger(__name__)"
   ]
  },
  {
   "cell_type": "code",
   "execution_count": 4,
   "id": "be67a917-11f8-43a0-a8d5-1b379ec77119",
   "metadata": {
    "tags": []
   },
   "outputs": [],
   "source": [
    "# get boto3 clients for required AWS services\n",
    "sts_client = boto3.client('sts')\n",
    "iam_client = boto3.client('iam')\n",
    "s3_client = boto3.client('s3')\n",
    "lambda_client = boto3.client('lambda')\n",
    "bedrock_agent_client = boto3.client('bedrock-agent')\n",
    "bedrock_agent_runtime_client = boto3.client('bedrock-agent-runtime')"
   ]
  },
  {
   "cell_type": "code",
   "execution_count": 5,
   "id": "acfd85b8-4a47-4da9-bdd6-2ac38c1e3803",
   "metadata": {
    "tags": []
   },
   "outputs": [
    {
     "data": {
      "text/plain": [
       "('us-west-2', '963354651517')"
      ]
     },
     "execution_count": 5,
     "metadata": {},
     "output_type": "execute_result"
    }
   ],
   "source": [
    "session = boto3.session.Session()\n",
    "region = session.region_name\n",
    "account_id = sts_client.get_caller_identity()[\"Account\"]\n",
    "region, account_id"
   ]
  },
  {
   "cell_type": "code",
   "execution_count": 59,
   "id": "6501bd5f-2b77-42d6-9662-6cc5b5b5642b",
   "metadata": {
    "tags": []
   },
   "outputs": [],
   "source": [
    "# Generate random prefix for unique IAM roles, agent name and S3 Bucket and \n",
    "# assign variables\n",
    "suffix = f\"{region}-{account_id}\"\n",
    "agent_name = \"financial-advisor-agent\"\n",
    "agent_alias_name = \"workshop-alias\"\n",
    "bucket_name = f'{agent_name}-{suffix}'\n",
    "bucket_key = f'{agent_name}-schema.json'\n",
    "schema_name = 'insurance_claims_agent_openapi_schema.json'\n",
    "schema_arn = f'arn:aws:s3:::{bucket_name}/{bucket_key}'\n",
    "bedrock_agent_bedrock_allow_policy_name = f\"{agent_name}-allow-{suffix}\"\n",
    "bedrock_agent_s3_allow_policy_name = f\"{agent_name}-s3-allow-{suffix}\"\n",
    "bedrock_agent_kb_allow_policy_name = f\"{agent_name}-KB-allow-{suffix}\"\n",
    "lambda_role_name = f'{agent_name}-lambda-role-{suffix}'\n",
    "agent_role_name = f'AmazonBedrockExecutionRoleForAgents_{suffix}'\n",
    "lambda_code_path_insurance = \"lambda_function_insurance.py\"\n",
    "lambda_name_insurance = f'{agent_name}-{suffix}-insurance'\n",
    "lambda_code_path_financials = \"lambda_function_financials.py\"\n",
    "lambda_name_financials = f'{agent_name}-{suffix}-financials'\n",
    "lambda_dynamodb_policy_name = f'{agent_name}-{suffix}-dynamodb-lambda-policy'\n",
    "model_id = \"anthropic.claude-3-sonnet-20240229-v1:0\"\n",
    "\n",
    "# update paramters\n",
    "knowledge_base_arn = 'arn:aws:bedrock:us-west-2:963354651517:knowledge-base/LLT8CLEFQU'\n",
    "knowledge_base_id = \"LLT8CLEFQU\""
   ]
  },
  {
   "cell_type": "markdown",
   "id": "03c964ba-6f6f-4e4b-a654-b09e54a3cd58",
   "metadata": {},
   "source": [
    "### Create S3 bucket and upload API Schema\n",
    "\n",
    "Agents require an API Schema stored on s3. Let's create an S3 bucket to store the file and upload the file to the newly created bucket"
   ]
  },
  {
   "cell_type": "code",
   "execution_count": 8,
   "id": "70aac712-e1e9-4761-9ed2-92181cb65a11",
   "metadata": {
    "tags": []
   },
   "outputs": [],
   "source": [
    "# Create S3 bucket for Open API schema\n",
    "if region == \"us-east-1\":\n",
    "    s3bucket = s3_client.create_bucket(\n",
    "        Bucket=bucket_name\n",
    "    )\n",
    "else:\n",
    "    s3bucket = s3_client.create_bucket(\n",
    "        Bucket=bucket_name,\n",
    "        CreateBucketConfiguration={ 'LocationConstraint': region } \n",
    "    )"
   ]
  },
  {
   "cell_type": "code",
   "execution_count": 9,
   "id": "159ff709-acdc-4174-9b5a-7fab8e0408df",
   "metadata": {
    "tags": []
   },
   "outputs": [],
   "source": [
    "# Upload Open API schema to this s3 bucket\n",
    "s3_client.upload_file(schema_name, bucket_name, bucket_key)"
   ]
  },
  {
   "cell_type": "markdown",
   "id": "ca46ab2f-f5a3-484b-9720-b3d586f47308",
   "metadata": {},
   "source": [
    "### Create Lambda functions for Insurance and Financials Action Group\n",
    "Let's now create the lambda function required by the agent action group. We first need to create the lambda IAM role and it's policy. After that, we package the lambda function into a ZIP format to create the function"
   ]
  },
  {
   "cell_type": "code",
   "execution_count": null,
   "id": "2a4c8deb-4168-4571-b36b-a9b1d7c7b32c",
   "metadata": {},
   "outputs": [],
   "source": [
    "lambda_dynamodb_policy_statement = {\n",
    "    \"Version\": \"2012-10-17\",\n",
    "    \"Statement\": [\n",
    "        {\n",
    "            \"Effect\": \"Allow\",\n",
    "            \"Action\": [\n",
    "                \"dynamodb:BatchGetItem\",\n",
    "                \"dynamodb:GetItem\",\n",
    "                \"dynamodb:Query\",\n",
    "                \"dynamodb:Scan\",\n",
    "                \"dynamodb:BatchWriteItem\",\n",
    "                \"dynamodb:PutItem\",\n",
    "                \"dynamodb:UpdateItem\"\n",
    "            ],\n",
    "            \"Resource\": \"*\"\n",
    "        },\n",
    "        {\n",
    "            \"Effect\": \"Allow\",\n",
    "            \"Action\": [\n",
    "                \"logs:CreateLogStream\",\n",
    "                \"logs:PutLogEvents\"\n",
    "            ],\n",
    "            \"Resource\": \"*\"\n",
    "        },\n",
    "        {\n",
    "            \"Effect\": \"Allow\",\n",
    "            \"Action\": \"logs:CreateLogGroup\",\n",
    "            \"Resource\": \"*\"\n",
    "        }\n",
    "    ]\n",
    "}\n",
    "lambda_dynamodb_policy_statement_json = json.dumps(lambda_dynamodb_policy_statement)\n",
    "\n",
    "agent_kb_schema_policy = iam_client.create_policy(\n",
    "    PolicyName=lambda_dynamodb_policy_name,\n",
    "    Description=f\"Policy to allow agent to retrieve documents from knowledge base.\",\n",
    "    PolicyDocument=lambda_dynamodb_policy_statement_json\n",
    ")"
   ]
  },
  {
   "cell_type": "code",
   "execution_count": 10,
   "id": "55b4269a-9781-4efd-b7c6-9dcb222541ac",
   "metadata": {
    "tags": []
   },
   "outputs": [
    {
     "data": {
      "text/plain": [
       "{'ResponseMetadata': {'RequestId': 'bdc74fe1-e89c-44c0-bab2-a2fabbbca260',\n",
       "  'HTTPStatusCode': 200,\n",
       "  'HTTPHeaders': {'date': 'Sat, 24 Aug 2024 14:05:25 GMT',\n",
       "   'x-amzn-requestid': 'bdc74fe1-e89c-44c0-bab2-a2fabbbca260',\n",
       "   'content-type': 'text/xml',\n",
       "   'content-length': '212'},\n",
       "  'RetryAttempts': 0}}"
      ]
     },
     "execution_count": 10,
     "metadata": {},
     "output_type": "execute_result"
    }
   ],
   "source": [
    "# Create IAM Role for the Lambda function\n",
    "try:\n",
    "    assume_role_policy_document = {\n",
    "        \"Version\": \"2012-10-17\",\n",
    "        \"Statement\": [\n",
    "            {\n",
    "                \"Effect\": \"Allow\",\n",
    "                \"Action\": \"bedrock:InvokeModel\",\n",
    "                \"Principal\": {\n",
    "                    \"Service\": \"lambda.amazonaws.com\"\n",
    "                },\n",
    "                \"Action\": \"sts:AssumeRole\"\n",
    "            }\n",
    "        ]\n",
    "    }\n",
    "\n",
    "    assume_role_policy_document_json = json.dumps(assume_role_policy_document)\n",
    "\n",
    "    lambda_iam_role = iam_client.create_role(\n",
    "        RoleName=lambda_role_name,\n",
    "        AssumeRolePolicyDocument=assume_role_policy_document_json\n",
    "    )\n",
    "\n",
    "    # Pause to make sure role is created\n",
    "    time.sleep(10)\n",
    "except:\n",
    "    lambda_iam_role = iam_client.get_role(RoleName=lambda_role_name)\n",
    "\n",
    "iam_client.attach_role_policy(\n",
    "    RoleName=lambda_role_name,\n",
    "    PolicyArn='arn:aws:iam::aws:policy/service-role/AWSLambdaBasicExecutionRole'\n",
    ")\n",
    "\n",
    "iam_client.attach_role_policy(\n",
    "    RoleName=lambda_role_name,\n",
    "    PolicyArn=lambda_dynamodb_policy_name['Policy']['Arn']\n",
    ")\n"
   ]
  },
  {
   "cell_type": "markdown",
   "id": "fa5f99ca-ccfc-4a47-aec4-541e36686138",
   "metadata": {},
   "source": [
    "Take a look at the Lambda function code that will be used as an Action group for the agent"
   ]
  },
  {
   "cell_type": "code",
   "execution_count": 11,
   "id": "04e53f6c-184d-4ab7-b845-87f380d263cb",
   "metadata": {
    "scrolled": true,
    "tags": []
   },
   "outputs": [
    {
     "name": "stdout",
     "output_type": "stream",
     "text": [
      "\u001b[37m#!/usr/bin/env python3\u001b[39;49;00m\u001b[37m\u001b[39;49;00m\n",
      "\u001b[37m# Copyright Amazon.com, Inc. or its affiliates. All Rights Reserved.\u001b[39;49;00m\u001b[37m\u001b[39;49;00m\n",
      "\u001b[37m# SPDX-License-Identifier: MIT-0\u001b[39;49;00m\u001b[37m\u001b[39;49;00m\n",
      "\u001b[34mimport\u001b[39;49;00m \u001b[04m\u001b[36mjson\u001b[39;49;00m\u001b[37m\u001b[39;49;00m\n",
      "\u001b[37m\u001b[39;49;00m\n",
      "\u001b[37m\u001b[39;49;00m\n",
      "\u001b[34mdef\u001b[39;49;00m \u001b[32mget_named_parameter\u001b[39;49;00m(event, name):\u001b[37m\u001b[39;49;00m\n",
      "    \u001b[34mreturn\u001b[39;49;00m \u001b[36mnext\u001b[39;49;00m(item \u001b[34mfor\u001b[39;49;00m item \u001b[35min\u001b[39;49;00m event[\u001b[33m'\u001b[39;49;00m\u001b[33mparameters\u001b[39;49;00m\u001b[33m'\u001b[39;49;00m] \u001b[34mif\u001b[39;49;00m item[\u001b[33m'\u001b[39;49;00m\u001b[33mname\u001b[39;49;00m\u001b[33m'\u001b[39;49;00m] == name)[\u001b[33m'\u001b[39;49;00m\u001b[33mvalue\u001b[39;49;00m\u001b[33m'\u001b[39;49;00m]\u001b[37m\u001b[39;49;00m\n",
      "\u001b[37m\u001b[39;49;00m\n",
      "\u001b[37m\u001b[39;49;00m\n",
      "\u001b[34mdef\u001b[39;49;00m \u001b[32mget_named_property\u001b[39;49;00m(event, name):\u001b[37m\u001b[39;49;00m\n",
      "    \u001b[34mreturn\u001b[39;49;00m \u001b[36mnext\u001b[39;49;00m(\u001b[37m\u001b[39;49;00m\n",
      "        item \u001b[34mfor\u001b[39;49;00m item \u001b[35min\u001b[39;49;00m\u001b[37m\u001b[39;49;00m\n",
      "        event[\u001b[33m'\u001b[39;49;00m\u001b[33mrequestBody\u001b[39;49;00m\u001b[33m'\u001b[39;49;00m][\u001b[33m'\u001b[39;49;00m\u001b[33mcontent\u001b[39;49;00m\u001b[33m'\u001b[39;49;00m][\u001b[33m'\u001b[39;49;00m\u001b[33mapplication/json\u001b[39;49;00m\u001b[33m'\u001b[39;49;00m][\u001b[33m'\u001b[39;49;00m\u001b[33mproperties\u001b[39;49;00m\u001b[33m'\u001b[39;49;00m]\u001b[37m\u001b[39;49;00m\n",
      "        \u001b[34mif\u001b[39;49;00m item[\u001b[33m'\u001b[39;49;00m\u001b[33mname\u001b[39;49;00m\u001b[33m'\u001b[39;49;00m] == name)[\u001b[33m'\u001b[39;49;00m\u001b[33mvalue\u001b[39;49;00m\u001b[33m'\u001b[39;49;00m]\u001b[37m\u001b[39;49;00m\n",
      "\u001b[37m\u001b[39;49;00m\n",
      "\u001b[37m\u001b[39;49;00m\n",
      "\u001b[34mdef\u001b[39;49;00m \u001b[32mclaim_detail\u001b[39;49;00m(payload):\u001b[37m\u001b[39;49;00m\n",
      "    claim_id = payload[\u001b[33m'\u001b[39;49;00m\u001b[33mparameters\u001b[39;49;00m\u001b[33m'\u001b[39;49;00m][\u001b[34m0\u001b[39;49;00m][\u001b[33m'\u001b[39;49;00m\u001b[33mvalue\u001b[39;49;00m\u001b[33m'\u001b[39;49;00m]\u001b[37m\u001b[39;49;00m\n",
      "    \u001b[34mif\u001b[39;49;00m claim_id == \u001b[33m'\u001b[39;49;00m\u001b[33mclaim-857\u001b[39;49;00m\u001b[33m'\u001b[39;49;00m:\u001b[37m\u001b[39;49;00m\n",
      "        \u001b[34mreturn\u001b[39;49;00m {\u001b[37m\u001b[39;49;00m\n",
      "            \u001b[33m\"\u001b[39;49;00m\u001b[33mresponse\u001b[39;49;00m\u001b[33m\"\u001b[39;49;00m: {\u001b[37m\u001b[39;49;00m\n",
      "                \u001b[33m\"\u001b[39;49;00m\u001b[33mclaimId\u001b[39;49;00m\u001b[33m\"\u001b[39;49;00m: claim_id,\u001b[37m\u001b[39;49;00m\n",
      "                \u001b[33m\"\u001b[39;49;00m\u001b[33mcreatedDate\u001b[39;49;00m\u001b[33m\"\u001b[39;49;00m: \u001b[33m\"\u001b[39;49;00m\u001b[33m21-Jul-2023\u001b[39;49;00m\u001b[33m\"\u001b[39;49;00m,\u001b[37m\u001b[39;49;00m\n",
      "                \u001b[33m\"\u001b[39;49;00m\u001b[33mlastActivityDate\u001b[39;49;00m\u001b[33m\"\u001b[39;49;00m: \u001b[33m\"\u001b[39;49;00m\u001b[33m25-Jul-2023\u001b[39;49;00m\u001b[33m\"\u001b[39;49;00m,\u001b[37m\u001b[39;49;00m\n",
      "                \u001b[33m\"\u001b[39;49;00m\u001b[33mstatus\u001b[39;49;00m\u001b[33m\"\u001b[39;49;00m: \u001b[33m\"\u001b[39;49;00m\u001b[33mOpen\u001b[39;49;00m\u001b[33m\"\u001b[39;49;00m,\u001b[37m\u001b[39;49;00m\n",
      "                \u001b[33m\"\u001b[39;49;00m\u001b[33mpolicyType\u001b[39;49;00m\u001b[33m\"\u001b[39;49;00m: \u001b[33m\"\u001b[39;49;00m\u001b[33mVehicle\u001b[39;49;00m\u001b[33m\"\u001b[39;49;00m\u001b[37m\u001b[39;49;00m\n",
      "            }\u001b[37m\u001b[39;49;00m\n",
      "        }\u001b[37m\u001b[39;49;00m\n",
      "    \u001b[34melif\u001b[39;49;00m claim_id == \u001b[33m'\u001b[39;49;00m\u001b[33mclaim-006\u001b[39;49;00m\u001b[33m'\u001b[39;49;00m:\u001b[37m\u001b[39;49;00m\n",
      "        \u001b[34mreturn\u001b[39;49;00m {\u001b[37m\u001b[39;49;00m\n",
      "            \u001b[33m\"\u001b[39;49;00m\u001b[33mresponse\u001b[39;49;00m\u001b[33m\"\u001b[39;49;00m: {\u001b[37m\u001b[39;49;00m\n",
      "                \u001b[33m\"\u001b[39;49;00m\u001b[33mclaimId\u001b[39;49;00m\u001b[33m\"\u001b[39;49;00m: claim_id,\u001b[37m\u001b[39;49;00m\n",
      "                \u001b[33m\"\u001b[39;49;00m\u001b[33mcreatedDate\u001b[39;49;00m\u001b[33m\"\u001b[39;49;00m: \u001b[33m\"\u001b[39;49;00m\u001b[33m20-May-2023\u001b[39;49;00m\u001b[33m\"\u001b[39;49;00m,\u001b[37m\u001b[39;49;00m\n",
      "                \u001b[33m\"\u001b[39;49;00m\u001b[33mlastActivityDate\u001b[39;49;00m\u001b[33m\"\u001b[39;49;00m: \u001b[33m\"\u001b[39;49;00m\u001b[33m23-Jul-2023\u001b[39;49;00m\u001b[33m\"\u001b[39;49;00m,\u001b[37m\u001b[39;49;00m\n",
      "                \u001b[33m\"\u001b[39;49;00m\u001b[33mstatus\u001b[39;49;00m\u001b[33m\"\u001b[39;49;00m: \u001b[33m\"\u001b[39;49;00m\u001b[33mOpen\u001b[39;49;00m\u001b[33m\"\u001b[39;49;00m,\u001b[37m\u001b[39;49;00m\n",
      "                \u001b[33m\"\u001b[39;49;00m\u001b[33mpolicyType\u001b[39;49;00m\u001b[33m\"\u001b[39;49;00m: \u001b[33m\"\u001b[39;49;00m\u001b[33mVehicle\u001b[39;49;00m\u001b[33m\"\u001b[39;49;00m\u001b[37m\u001b[39;49;00m\n",
      "            }\u001b[37m\u001b[39;49;00m\n",
      "        }\u001b[37m\u001b[39;49;00m\n",
      "    \u001b[34melif\u001b[39;49;00m claim_id == \u001b[33m'\u001b[39;49;00m\u001b[33mclaim-999\u001b[39;49;00m\u001b[33m'\u001b[39;49;00m:\u001b[37m\u001b[39;49;00m\n",
      "        \u001b[34mreturn\u001b[39;49;00m {\u001b[37m\u001b[39;49;00m\n",
      "            \u001b[33m\"\u001b[39;49;00m\u001b[33mresponse\u001b[39;49;00m\u001b[33m\"\u001b[39;49;00m: {\u001b[37m\u001b[39;49;00m\n",
      "                \u001b[33m\"\u001b[39;49;00m\u001b[33mclaimId\u001b[39;49;00m\u001b[33m\"\u001b[39;49;00m: claim_id,\u001b[37m\u001b[39;49;00m\n",
      "                \u001b[33m\"\u001b[39;49;00m\u001b[33mcreatedDate\u001b[39;49;00m\u001b[33m\"\u001b[39;49;00m: \u001b[33m\"\u001b[39;49;00m\u001b[33m10-Jan-2023\u001b[39;49;00m\u001b[33m\"\u001b[39;49;00m,\u001b[37m\u001b[39;49;00m\n",
      "                \u001b[33m\"\u001b[39;49;00m\u001b[33mlastActivityDate\u001b[39;49;00m\u001b[33m\"\u001b[39;49;00m: \u001b[33m\"\u001b[39;49;00m\u001b[33m31-Feb-2023\u001b[39;49;00m\u001b[33m\"\u001b[39;49;00m,\u001b[37m\u001b[39;49;00m\n",
      "                \u001b[33m\"\u001b[39;49;00m\u001b[33mstatus\u001b[39;49;00m\u001b[33m\"\u001b[39;49;00m: \u001b[33m\"\u001b[39;49;00m\u001b[33mCompleted\u001b[39;49;00m\u001b[33m\"\u001b[39;49;00m,\u001b[37m\u001b[39;49;00m\n",
      "                \u001b[33m\"\u001b[39;49;00m\u001b[33mpolicyType\u001b[39;49;00m\u001b[33m\"\u001b[39;49;00m: \u001b[33m\"\u001b[39;49;00m\u001b[33mDisability\u001b[39;49;00m\u001b[33m\"\u001b[39;49;00m\u001b[37m\u001b[39;49;00m\n",
      "            }\u001b[37m\u001b[39;49;00m\n",
      "        }\u001b[37m\u001b[39;49;00m\n",
      "    \u001b[34melse\u001b[39;49;00m:\u001b[37m\u001b[39;49;00m\n",
      "        \u001b[34mreturn\u001b[39;49;00m {\u001b[37m\u001b[39;49;00m\n",
      "            \u001b[33m\"\u001b[39;49;00m\u001b[33mresponse\u001b[39;49;00m\u001b[33m\"\u001b[39;49;00m: {\u001b[37m\u001b[39;49;00m\n",
      "                \u001b[33m\"\u001b[39;49;00m\u001b[33mclaimId\u001b[39;49;00m\u001b[33m\"\u001b[39;49;00m: claim_id,\u001b[37m\u001b[39;49;00m\n",
      "                \u001b[33m\"\u001b[39;49;00m\u001b[33mcreatedDate\u001b[39;49;00m\u001b[33m\"\u001b[39;49;00m: \u001b[33m\"\u001b[39;49;00m\u001b[33m18-Apr-2023\u001b[39;49;00m\u001b[33m\"\u001b[39;49;00m,\u001b[37m\u001b[39;49;00m\n",
      "                \u001b[33m\"\u001b[39;49;00m\u001b[33mlastActivityDate\u001b[39;49;00m\u001b[33m\"\u001b[39;49;00m: \u001b[33m\"\u001b[39;49;00m\u001b[33m20-Apr-2023\u001b[39;49;00m\u001b[33m\"\u001b[39;49;00m,\u001b[37m\u001b[39;49;00m\n",
      "                \u001b[33m\"\u001b[39;49;00m\u001b[33mstatus\u001b[39;49;00m\u001b[33m\"\u001b[39;49;00m: \u001b[33m\"\u001b[39;49;00m\u001b[33mOpen\u001b[39;49;00m\u001b[33m\"\u001b[39;49;00m,\u001b[37m\u001b[39;49;00m\n",
      "                \u001b[33m\"\u001b[39;49;00m\u001b[33mpolicyType\u001b[39;49;00m\u001b[33m\"\u001b[39;49;00m: \u001b[33m\"\u001b[39;49;00m\u001b[33mVehicle\u001b[39;49;00m\u001b[33m\"\u001b[39;49;00m\u001b[37m\u001b[39;49;00m\n",
      "            }\u001b[37m\u001b[39;49;00m\n",
      "        }\u001b[37m\u001b[39;49;00m\n",
      "\u001b[37m\u001b[39;49;00m\n",
      "\u001b[37m\u001b[39;49;00m\n",
      "\u001b[34mdef\u001b[39;49;00m \u001b[32mopen_claims\u001b[39;49;00m():\u001b[37m\u001b[39;49;00m\n",
      "    \u001b[34mreturn\u001b[39;49;00m {\u001b[37m\u001b[39;49;00m\n",
      "        \u001b[33m\"\u001b[39;49;00m\u001b[33mresponse\u001b[39;49;00m\u001b[33m\"\u001b[39;49;00m: [\u001b[37m\u001b[39;49;00m\n",
      "            {\u001b[37m\u001b[39;49;00m\n",
      "                \u001b[33m\"\u001b[39;49;00m\u001b[33mclaimId\u001b[39;49;00m\u001b[33m\"\u001b[39;49;00m: \u001b[33m\"\u001b[39;49;00m\u001b[33mclaim-006\u001b[39;49;00m\u001b[33m\"\u001b[39;49;00m,\u001b[37m\u001b[39;49;00m\n",
      "                \u001b[33m\"\u001b[39;49;00m\u001b[33mpolicyHolderId\u001b[39;49;00m\u001b[33m\"\u001b[39;49;00m: \u001b[33m\"\u001b[39;49;00m\u001b[33mA945684\u001b[39;49;00m\u001b[33m\"\u001b[39;49;00m,\u001b[37m\u001b[39;49;00m\n",
      "                \u001b[33m\"\u001b[39;49;00m\u001b[33mclaimStatus\u001b[39;49;00m\u001b[33m\"\u001b[39;49;00m: \u001b[33m\"\u001b[39;49;00m\u001b[33mOpen\u001b[39;49;00m\u001b[33m\"\u001b[39;49;00m\u001b[37m\u001b[39;49;00m\n",
      "            },\u001b[37m\u001b[39;49;00m\n",
      "            {\u001b[37m\u001b[39;49;00m\n",
      "                \u001b[33m\"\u001b[39;49;00m\u001b[33mclaimId\u001b[39;49;00m\u001b[33m\"\u001b[39;49;00m: \u001b[33m\"\u001b[39;49;00m\u001b[33mclaim-857\u001b[39;49;00m\u001b[33m\"\u001b[39;49;00m,\u001b[37m\u001b[39;49;00m\n",
      "                \u001b[33m\"\u001b[39;49;00m\u001b[33mpolicyHolderId\u001b[39;49;00m\u001b[33m\"\u001b[39;49;00m: \u001b[33m\"\u001b[39;49;00m\u001b[33mA645987\u001b[39;49;00m\u001b[33m\"\u001b[39;49;00m,\u001b[37m\u001b[39;49;00m\n",
      "                \u001b[33m\"\u001b[39;49;00m\u001b[33mclaimStatus\u001b[39;49;00m\u001b[33m\"\u001b[39;49;00m: \u001b[33m\"\u001b[39;49;00m\u001b[33mOpen\u001b[39;49;00m\u001b[33m\"\u001b[39;49;00m\u001b[37m\u001b[39;49;00m\n",
      "            },\u001b[37m\u001b[39;49;00m\n",
      "            {\u001b[37m\u001b[39;49;00m\n",
      "                \u001b[33m\"\u001b[39;49;00m\u001b[33mclaimId\u001b[39;49;00m\u001b[33m\"\u001b[39;49;00m: \u001b[33m\"\u001b[39;49;00m\u001b[33mclaim-334\u001b[39;49;00m\u001b[33m\"\u001b[39;49;00m,\u001b[37m\u001b[39;49;00m\n",
      "                \u001b[33m\"\u001b[39;49;00m\u001b[33mpolicyHolderId\u001b[39;49;00m\u001b[33m\"\u001b[39;49;00m: \u001b[33m\"\u001b[39;49;00m\u001b[33mA987654\u001b[39;49;00m\u001b[33m\"\u001b[39;49;00m,\u001b[37m\u001b[39;49;00m\n",
      "                \u001b[33m\"\u001b[39;49;00m\u001b[33mclaimStatus\u001b[39;49;00m\u001b[33m\"\u001b[39;49;00m: \u001b[33m\"\u001b[39;49;00m\u001b[33mOpen\u001b[39;49;00m\u001b[33m\"\u001b[39;49;00m\u001b[37m\u001b[39;49;00m\n",
      "            }\u001b[37m\u001b[39;49;00m\n",
      "        ]\u001b[37m\u001b[39;49;00m\n",
      "    }\u001b[37m\u001b[39;49;00m\n",
      "\u001b[37m\u001b[39;49;00m\n",
      "\u001b[37m\u001b[39;49;00m\n",
      "\u001b[34mdef\u001b[39;49;00m \u001b[32moutstanding_paperwork\u001b[39;49;00m(parameters):\u001b[37m\u001b[39;49;00m\n",
      "    \u001b[34mfor\u001b[39;49;00m parameter \u001b[35min\u001b[39;49;00m parameters:\u001b[37m\u001b[39;49;00m\n",
      "        \u001b[34mif\u001b[39;49;00m parameter.get(\u001b[33m\"\u001b[39;49;00m\u001b[33mvalue\u001b[39;49;00m\u001b[33m\"\u001b[39;49;00m, \u001b[34mNone\u001b[39;49;00m) == \u001b[33m\"\u001b[39;49;00m\u001b[33mclaim-857\u001b[39;49;00m\u001b[33m\"\u001b[39;49;00m:\u001b[37m\u001b[39;49;00m\n",
      "            \u001b[34mreturn\u001b[39;49;00m {\u001b[37m\u001b[39;49;00m\n",
      "                \u001b[33m\"\u001b[39;49;00m\u001b[33mresponse\u001b[39;49;00m\u001b[33m\"\u001b[39;49;00m: {\u001b[37m\u001b[39;49;00m\n",
      "                    \u001b[33m\"\u001b[39;49;00m\u001b[33mpendingDocuments\u001b[39;49;00m\u001b[33m\"\u001b[39;49;00m: \u001b[33m\"\u001b[39;49;00m\u001b[33mDriverLicense, VehicleRegistration\u001b[39;49;00m\u001b[33m\"\u001b[39;49;00m\u001b[37m\u001b[39;49;00m\n",
      "                }\u001b[37m\u001b[39;49;00m\n",
      "            }\u001b[37m\u001b[39;49;00m\n",
      "        \u001b[34melif\u001b[39;49;00m parameter.get(\u001b[33m\"\u001b[39;49;00m\u001b[33mvalue\u001b[39;49;00m\u001b[33m\"\u001b[39;49;00m, \u001b[34mNone\u001b[39;49;00m) == \u001b[33m\"\u001b[39;49;00m\u001b[33mclaim-006\u001b[39;49;00m\u001b[33m\"\u001b[39;49;00m:\u001b[37m\u001b[39;49;00m\n",
      "            \u001b[34mreturn\u001b[39;49;00m {\u001b[37m\u001b[39;49;00m\n",
      "                \u001b[33m\"\u001b[39;49;00m\u001b[33mresponse\u001b[39;49;00m\u001b[33m\"\u001b[39;49;00m: {\u001b[37m\u001b[39;49;00m\n",
      "                    \u001b[33m\"\u001b[39;49;00m\u001b[33mpendingDocuments\u001b[39;49;00m\u001b[33m\"\u001b[39;49;00m: \u001b[33m\"\u001b[39;49;00m\u001b[33mAccidentImages\u001b[39;49;00m\u001b[33m\"\u001b[39;49;00m\u001b[37m\u001b[39;49;00m\n",
      "                }\u001b[37m\u001b[39;49;00m\n",
      "            }\u001b[37m\u001b[39;49;00m\n",
      "        \u001b[34melse\u001b[39;49;00m:\u001b[37m\u001b[39;49;00m\n",
      "            \u001b[34mreturn\u001b[39;49;00m {\u001b[37m\u001b[39;49;00m\n",
      "                \u001b[33m\"\u001b[39;49;00m\u001b[33mresponse\u001b[39;49;00m\u001b[33m\"\u001b[39;49;00m: {\u001b[37m\u001b[39;49;00m\n",
      "                    \u001b[33m\"\u001b[39;49;00m\u001b[33mpendingDocuments\u001b[39;49;00m\u001b[33m\"\u001b[39;49;00m: \u001b[33m\"\u001b[39;49;00m\u001b[33m\"\u001b[39;49;00m\u001b[37m\u001b[39;49;00m\n",
      "                }\u001b[37m\u001b[39;49;00m\n",
      "            }\u001b[37m\u001b[39;49;00m\n",
      "\u001b[37m\u001b[39;49;00m\n",
      "\u001b[37m\u001b[39;49;00m\n",
      "\u001b[34mdef\u001b[39;49;00m \u001b[32msend_reminder\u001b[39;49;00m(payload):\u001b[37m\u001b[39;49;00m\n",
      "    \u001b[36mprint\u001b[39;49;00m(payload)\u001b[37m\u001b[39;49;00m\n",
      "    \u001b[34mreturn\u001b[39;49;00m {\u001b[37m\u001b[39;49;00m\n",
      "        \u001b[33m\"\u001b[39;49;00m\u001b[33mresponse\u001b[39;49;00m\u001b[33m\"\u001b[39;49;00m: {\u001b[37m\u001b[39;49;00m\n",
      "            \u001b[33m\"\u001b[39;49;00m\u001b[33msendReminderTrackingId\u001b[39;49;00m\u001b[33m\"\u001b[39;49;00m: \u001b[33m\"\u001b[39;49;00m\u001b[33m50e8400-e29b-41d4-a716-446655440000\u001b[39;49;00m\u001b[33m\"\u001b[39;49;00m,\u001b[37m\u001b[39;49;00m\n",
      "            \u001b[33m\"\u001b[39;49;00m\u001b[33msendReminderStatus\u001b[39;49;00m\u001b[33m\"\u001b[39;49;00m: \u001b[33m\"\u001b[39;49;00m\u001b[33mInProgress\u001b[39;49;00m\u001b[33m\"\u001b[39;49;00m\u001b[37m\u001b[39;49;00m\n",
      "        }\u001b[37m\u001b[39;49;00m\n",
      "    }\u001b[37m\u001b[39;49;00m\n",
      "\u001b[37m\u001b[39;49;00m\n",
      "\u001b[37m\u001b[39;49;00m\n",
      "\u001b[34mdef\u001b[39;49;00m \u001b[32mlambda_handler\u001b[39;49;00m(event, context):\u001b[37m\u001b[39;49;00m\n",
      "    action = event[\u001b[33m'\u001b[39;49;00m\u001b[33mactionGroup\u001b[39;49;00m\u001b[33m'\u001b[39;49;00m]\u001b[37m\u001b[39;49;00m\n",
      "    api_path = event[\u001b[33m'\u001b[39;49;00m\u001b[33mapiPath\u001b[39;49;00m\u001b[33m'\u001b[39;49;00m]\u001b[37m\u001b[39;49;00m\n",
      "\u001b[37m\u001b[39;49;00m\n",
      "    \u001b[34mif\u001b[39;49;00m api_path == \u001b[33m'\u001b[39;49;00m\u001b[33m/open-items\u001b[39;49;00m\u001b[33m'\u001b[39;49;00m:\u001b[37m\u001b[39;49;00m\n",
      "        body = open_claims()\u001b[37m\u001b[39;49;00m\n",
      "    \u001b[34melif\u001b[39;49;00m api_path == \u001b[33m'\u001b[39;49;00m\u001b[33m/open-items/\u001b[39;49;00m\u001b[33m{claimId}\u001b[39;49;00m\u001b[33m/outstanding-paperwork\u001b[39;49;00m\u001b[33m'\u001b[39;49;00m:\u001b[37m\u001b[39;49;00m\n",
      "        parameters = event[\u001b[33m'\u001b[39;49;00m\u001b[33mparameters\u001b[39;49;00m\u001b[33m'\u001b[39;49;00m]\u001b[37m\u001b[39;49;00m\n",
      "        body = outstanding_paperwork(parameters)\u001b[37m\u001b[39;49;00m\n",
      "    \u001b[34melif\u001b[39;49;00m api_path == \u001b[33m'\u001b[39;49;00m\u001b[33m/open-items/\u001b[39;49;00m\u001b[33m{claimId}\u001b[39;49;00m\u001b[33m/detail\u001b[39;49;00m\u001b[33m'\u001b[39;49;00m:\u001b[37m\u001b[39;49;00m\n",
      "        body = claim_detail(event)\u001b[37m\u001b[39;49;00m\n",
      "    \u001b[34melif\u001b[39;49;00m api_path == \u001b[33m'\u001b[39;49;00m\u001b[33m/notify\u001b[39;49;00m\u001b[33m'\u001b[39;49;00m:\u001b[37m\u001b[39;49;00m\n",
      "        body = send_reminder(event)\u001b[37m\u001b[39;49;00m\n",
      "    \u001b[34melse\u001b[39;49;00m:\u001b[37m\u001b[39;49;00m\n",
      "        body = {\u001b[33m\"\u001b[39;49;00m\u001b[33m{}\u001b[39;49;00m\u001b[33m::\u001b[39;49;00m\u001b[33m{}\u001b[39;49;00m\u001b[33m is not a valid api, try another one.\u001b[39;49;00m\u001b[33m\"\u001b[39;49;00m.format(action, api_path)}\u001b[37m\u001b[39;49;00m\n",
      "\u001b[37m\u001b[39;49;00m\n",
      "    response_body = {\u001b[37m\u001b[39;49;00m\n",
      "        \u001b[33m'\u001b[39;49;00m\u001b[33mapplication/json\u001b[39;49;00m\u001b[33m'\u001b[39;49;00m: {\u001b[37m\u001b[39;49;00m\n",
      "            \u001b[33m'\u001b[39;49;00m\u001b[33mbody\u001b[39;49;00m\u001b[33m'\u001b[39;49;00m: \u001b[36mstr\u001b[39;49;00m(body)\u001b[37m\u001b[39;49;00m\n",
      "        }\u001b[37m\u001b[39;49;00m\n",
      "    }\u001b[37m\u001b[39;49;00m\n",
      "\u001b[37m\u001b[39;49;00m\n",
      "    action_response = {\u001b[37m\u001b[39;49;00m\n",
      "        \u001b[33m'\u001b[39;49;00m\u001b[33mactionGroup\u001b[39;49;00m\u001b[33m'\u001b[39;49;00m: event[\u001b[33m'\u001b[39;49;00m\u001b[33mactionGroup\u001b[39;49;00m\u001b[33m'\u001b[39;49;00m],\u001b[37m\u001b[39;49;00m\n",
      "        \u001b[33m'\u001b[39;49;00m\u001b[33mapiPath\u001b[39;49;00m\u001b[33m'\u001b[39;49;00m: event[\u001b[33m'\u001b[39;49;00m\u001b[33mapiPath\u001b[39;49;00m\u001b[33m'\u001b[39;49;00m],\u001b[37m\u001b[39;49;00m\n",
      "        \u001b[33m'\u001b[39;49;00m\u001b[33mhttpMethod\u001b[39;49;00m\u001b[33m'\u001b[39;49;00m: event[\u001b[33m'\u001b[39;49;00m\u001b[33mhttpMethod\u001b[39;49;00m\u001b[33m'\u001b[39;49;00m],\u001b[37m\u001b[39;49;00m\n",
      "        \u001b[33m'\u001b[39;49;00m\u001b[33mhttpStatusCode\u001b[39;49;00m\u001b[33m'\u001b[39;49;00m: \u001b[34m200\u001b[39;49;00m,\u001b[37m\u001b[39;49;00m\n",
      "        \u001b[33m'\u001b[39;49;00m\u001b[33mresponseBody\u001b[39;49;00m\u001b[33m'\u001b[39;49;00m: response_body\u001b[37m\u001b[39;49;00m\n",
      "    }\u001b[37m\u001b[39;49;00m\n",
      "\u001b[37m\u001b[39;49;00m\n",
      "    response = {\u001b[33m'\u001b[39;49;00m\u001b[33mresponse\u001b[39;49;00m\u001b[33m'\u001b[39;49;00m: action_response}\u001b[37m\u001b[39;49;00m\n",
      "    \u001b[34mreturn\u001b[39;49;00m response\u001b[37m\u001b[39;49;00m\n"
     ]
    }
   ],
   "source": [
    "!pygmentize lambda_function_insurance.py"
   ]
  },
  {
   "cell_type": "code",
   "execution_count": 12,
   "id": "f8b0dbc2-9c36-4f0a-8701-472f7c162a65",
   "metadata": {
    "tags": []
   },
   "outputs": [],
   "source": [
    "# Package up the lambda function code\n",
    "s = BytesIO()\n",
    "z = zipfile.ZipFile(s, 'w')\n",
    "z.write(lambda_code_path_insurance)\n",
    "z.close()\n",
    "zip_content = s.getvalue()\n",
    "\n",
    "# Create Lambda Function\n",
    "lambda_function_insurance = lambda_client.create_function(\n",
    "    FunctionName=lambda_name_insurance,\n",
    "    Runtime='python3.12',\n",
    "    Timeout=180,\n",
    "    Role=lambda_iam_role['Role']['Arn'],\n",
    "    Code={'ZipFile': zip_content},\n",
    "    Handler='lambda_function_insurance.lambda_handler'\n",
    ")"
   ]
  },
  {
   "cell_type": "code",
   "execution_count": 14,
   "id": "c9d82c4a-d518-43d7-8293-4a2f2f023671",
   "metadata": {
    "scrolled": true,
    "tags": []
   },
   "outputs": [
    {
     "name": "stdout",
     "output_type": "stream",
     "text": [
      "\u001b[34mimport\u001b[39;49;00m \u001b[04m\u001b[36mjson\u001b[39;49;00m\u001b[37m\u001b[39;49;00m\n",
      "\u001b[34mimport\u001b[39;49;00m \u001b[04m\u001b[36mboto3\u001b[39;49;00m\u001b[37m\u001b[39;49;00m\n",
      "\u001b[34mimport\u001b[39;49;00m \u001b[04m\u001b[36mdecimal\u001b[39;49;00m\u001b[37m\u001b[39;49;00m\n",
      "\u001b[37m\u001b[39;49;00m\n",
      "\u001b[37m# DynamoDB boto3 resource and variable\u001b[39;49;00m\u001b[37m\u001b[39;49;00m\n",
      "dynamodb = boto3.resource(\u001b[33m'\u001b[39;49;00m\u001b[33mdynamodb\u001b[39;49;00m\u001b[33m'\u001b[39;49;00m,region_name=\u001b[33m'\u001b[39;49;00m\u001b[33mus-west-2\u001b[39;49;00m\u001b[33m'\u001b[39;49;00m)\u001b[37m\u001b[39;49;00m\n",
      "loans_table_name = \u001b[33m'\u001b[39;49;00m\u001b[33mfinancial-advisor-userdetails\u001b[39;49;00m\u001b[33m'\u001b[39;49;00m\u001b[37m\u001b[39;49;00m\n",
      "table = dynamodb.Table(loans_table_name)\u001b[37m\u001b[39;49;00m\n",
      "\u001b[37m\u001b[39;49;00m\n",
      "\u001b[34mdef\u001b[39;49;00m \u001b[32mget_named_parameter\u001b[39;49;00m(event, name):\u001b[37m\u001b[39;49;00m\n",
      "    \u001b[34mreturn\u001b[39;49;00m \u001b[36mnext\u001b[39;49;00m(item \u001b[34mfor\u001b[39;49;00m item \u001b[35min\u001b[39;49;00m event[\u001b[33m'\u001b[39;49;00m\u001b[33mparameters\u001b[39;49;00m\u001b[33m'\u001b[39;49;00m] \u001b[34mif\u001b[39;49;00m item[\u001b[33m'\u001b[39;49;00m\u001b[33mname\u001b[39;49;00m\u001b[33m'\u001b[39;49;00m] == name)[\u001b[33m'\u001b[39;49;00m\u001b[33mvalue\u001b[39;49;00m\u001b[33m'\u001b[39;49;00m]\u001b[37m\u001b[39;49;00m\n",
      "\u001b[37m\u001b[39;49;00m\n",
      "\u001b[34mdef\u001b[39;49;00m \u001b[32mget_named_property\u001b[39;49;00m(event, name):\u001b[37m\u001b[39;49;00m\n",
      "    \u001b[34mreturn\u001b[39;49;00m \u001b[36mnext\u001b[39;49;00m(\u001b[37m\u001b[39;49;00m\n",
      "        item \u001b[34mfor\u001b[39;49;00m item \u001b[35min\u001b[39;49;00m\u001b[37m\u001b[39;49;00m\n",
      "        event[\u001b[33m'\u001b[39;49;00m\u001b[33mrequestBody\u001b[39;49;00m\u001b[33m'\u001b[39;49;00m][\u001b[33m'\u001b[39;49;00m\u001b[33mcontent\u001b[39;49;00m\u001b[33m'\u001b[39;49;00m][\u001b[33m'\u001b[39;49;00m\u001b[33mapplication/json\u001b[39;49;00m\u001b[33m'\u001b[39;49;00m][\u001b[33m'\u001b[39;49;00m\u001b[33mproperties\u001b[39;49;00m\u001b[33m'\u001b[39;49;00m]\u001b[37m\u001b[39;49;00m\n",
      "        \u001b[34mif\u001b[39;49;00m item[\u001b[33m'\u001b[39;49;00m\u001b[33mname\u001b[39;49;00m\u001b[33m'\u001b[39;49;00m] == name)[\u001b[33m'\u001b[39;49;00m\u001b[33mvalue\u001b[39;49;00m\u001b[33m'\u001b[39;49;00m]\u001b[37m\u001b[39;49;00m\n",
      "        \u001b[37m\u001b[39;49;00m\n",
      "\u001b[34mdef\u001b[39;49;00m \u001b[32mgetUserFinances\u001b[39;49;00m(user_id):\u001b[37m\u001b[39;49;00m\n",
      "    response = table.get_item(\u001b[37m\u001b[39;49;00m\n",
      "                Key={\u001b[33m'\u001b[39;49;00m\u001b[33muserid\u001b[39;49;00m\u001b[33m'\u001b[39;49;00m: user_id})\u001b[37m\u001b[39;49;00m\n",
      "    \u001b[37m\u001b[39;49;00m\n",
      "    \u001b[34mreturn\u001b[39;49;00m response[\u001b[33m'\u001b[39;49;00m\u001b[33mItem\u001b[39;49;00m\u001b[33m'\u001b[39;49;00m]      \u001b[37m\u001b[39;49;00m\n",
      "\u001b[37m\u001b[39;49;00m\n",
      "\u001b[34mdef\u001b[39;49;00m \u001b[32mcheckLoanEligibility\u001b[39;49;00m(user_id):\u001b[37m\u001b[39;49;00m\n",
      "    response = table.get_item(\u001b[37m\u001b[39;49;00m\n",
      "                Key={\u001b[33m'\u001b[39;49;00m\u001b[33muserid\u001b[39;49;00m\u001b[33m'\u001b[39;49;00m: user_id})\u001b[37m\u001b[39;49;00m\n",
      "                \u001b[37m\u001b[39;49;00m\n",
      "    creditscore = response[\u001b[33m'\u001b[39;49;00m\u001b[33mItem\u001b[39;49;00m\u001b[33m'\u001b[39;49;00m][\u001b[33m'\u001b[39;49;00m\u001b[33mcreditscore\u001b[39;49;00m\u001b[33m'\u001b[39;49;00m]\u001b[37m\u001b[39;49;00m\n",
      "   \u001b[37m\u001b[39;49;00m\n",
      "    \u001b[36mprint\u001b[39;49;00m(creditscore)    \u001b[37m\u001b[39;49;00m\n",
      "    \u001b[37m\u001b[39;49;00m\n",
      "    \u001b[34mif\u001b[39;49;00m (creditscore > \u001b[34m600\u001b[39;49;00m):\u001b[37m\u001b[39;49;00m\n",
      "        \u001b[34mreturn\u001b[39;49;00m {\u001b[37m\u001b[39;49;00m\n",
      "            \u001b[33m\"\u001b[39;49;00m\u001b[33mresponse\u001b[39;49;00m\u001b[33m\"\u001b[39;49;00m: {\u001b[37m\u001b[39;49;00m\n",
      "                \u001b[33m\"\u001b[39;49;00m\u001b[33muserid\u001b[39;49;00m\u001b[33m\"\u001b[39;49;00m: user_id,\u001b[37m\u001b[39;49;00m\n",
      "                \u001b[33m\"\u001b[39;49;00m\u001b[33mLoanEligibility\u001b[39;49;00m\u001b[33m\"\u001b[39;49;00m: \u001b[34mTrue\u001b[39;49;00m\u001b[37m\u001b[39;49;00m\n",
      "            }\u001b[37m\u001b[39;49;00m\n",
      "        }\u001b[37m\u001b[39;49;00m\n",
      "    \u001b[34melse\u001b[39;49;00m:\u001b[37m\u001b[39;49;00m\n",
      "       \u001b[34mreturn\u001b[39;49;00m {\u001b[37m\u001b[39;49;00m\n",
      "            \u001b[33m\"\u001b[39;49;00m\u001b[33mresponse\u001b[39;49;00m\u001b[33m\"\u001b[39;49;00m: {\u001b[37m\u001b[39;49;00m\n",
      "                \u001b[33m\"\u001b[39;49;00m\u001b[33muserid\u001b[39;49;00m\u001b[33m\"\u001b[39;49;00m: user_id,\u001b[37m\u001b[39;49;00m\n",
      "                \u001b[33m\"\u001b[39;49;00m\u001b[33mLoanEligibility\u001b[39;49;00m\u001b[33m\"\u001b[39;49;00m: \u001b[34mFalse\u001b[39;49;00m\u001b[37m\u001b[39;49;00m\n",
      "            }\u001b[37m\u001b[39;49;00m\n",
      "        }\u001b[37m\u001b[39;49;00m\n",
      "\u001b[37m\u001b[39;49;00m\n",
      "\u001b[34mdef\u001b[39;49;00m \u001b[32mlambda_handler\u001b[39;49;00m(event, context):\u001b[37m\u001b[39;49;00m\n",
      "    agent = event[\u001b[33m'\u001b[39;49;00m\u001b[33magent\u001b[39;49;00m\u001b[33m'\u001b[39;49;00m]\u001b[37m\u001b[39;49;00m\n",
      "    actionGroup = event[\u001b[33m'\u001b[39;49;00m\u001b[33mactionGroup\u001b[39;49;00m\u001b[33m'\u001b[39;49;00m]\u001b[37m\u001b[39;49;00m\n",
      "    function = event[\u001b[33m'\u001b[39;49;00m\u001b[33mfunction\u001b[39;49;00m\u001b[33m'\u001b[39;49;00m]\u001b[37m\u001b[39;49;00m\n",
      "    parameters = event.get(\u001b[33m'\u001b[39;49;00m\u001b[33mparameters\u001b[39;49;00m\u001b[33m'\u001b[39;49;00m, [])\u001b[37m\u001b[39;49;00m\n",
      "    \u001b[37m\u001b[39;49;00m\n",
      "    \u001b[34mif\u001b[39;49;00m function == \u001b[33m'\u001b[39;49;00m\u001b[33mloan_eligibility\u001b[39;49;00m\u001b[33m'\u001b[39;49;00m:\u001b[37m\u001b[39;49;00m\n",
      "        user_id = get_named_parameter(event, \u001b[33m\"\u001b[39;49;00m\u001b[33muserid\u001b[39;49;00m\u001b[33m\"\u001b[39;49;00m)\u001b[37m\u001b[39;49;00m\n",
      "        body = checkLoanEligibility(user_id)\u001b[37m\u001b[39;49;00m\n",
      "        \u001b[37m\u001b[39;49;00m\n",
      "    \u001b[34melif\u001b[39;49;00m function == \u001b[33m'\u001b[39;49;00m\u001b[33mget_user_finances\u001b[39;49;00m\u001b[33m'\u001b[39;49;00m:\u001b[37m\u001b[39;49;00m\n",
      "        user_id = get_named_parameter(event, \u001b[33m\"\u001b[39;49;00m\u001b[33muserid\u001b[39;49;00m\u001b[33m\"\u001b[39;49;00m)\u001b[37m\u001b[39;49;00m\n",
      "        body = getUserFinances(user_id)\u001b[37m\u001b[39;49;00m\n",
      "        \u001b[37m\u001b[39;49;00m\n",
      "    \u001b[34melse\u001b[39;49;00m:\u001b[37m\u001b[39;49;00m\n",
      "        body = {\u001b[33m\"\u001b[39;49;00m\u001b[33m{}\u001b[39;49;00m\u001b[33m::\u001b[39;49;00m\u001b[33m{}\u001b[39;49;00m\u001b[33m is not a valid api, try another one.\u001b[39;49;00m\u001b[33m\"\u001b[39;49;00m.format(action, api_path)}\u001b[37m\u001b[39;49;00m\n",
      "        \u001b[37m\u001b[39;49;00m\n",
      "    response = \u001b[36mstr\u001b[39;49;00m(body)\u001b[37m\u001b[39;49;00m\n",
      "    responseBody = {\u001b[33m\"\u001b[39;49;00m\u001b[33mTEXT\u001b[39;49;00m\u001b[33m\"\u001b[39;49;00m: {\u001b[33m\"\u001b[39;49;00m\u001b[33mbody\u001b[39;49;00m\u001b[33m\"\u001b[39;49;00m: json.dumps(response)}}\u001b[37m\u001b[39;49;00m\n",
      "    \u001b[37m\u001b[39;49;00m\n",
      "    session_attributes = event[\u001b[33m'\u001b[39;49;00m\u001b[33msessionAttributes\u001b[39;49;00m\u001b[33m'\u001b[39;49;00m]\u001b[37m\u001b[39;49;00m\n",
      "    prompt_session_attributes = event[\u001b[33m'\u001b[39;49;00m\u001b[33mpromptSessionAttributes\u001b[39;49;00m\u001b[33m'\u001b[39;49;00m]\u001b[37m\u001b[39;49;00m\n",
      " \u001b[37m\u001b[39;49;00m\n",
      "    action_response = {\u001b[37m\u001b[39;49;00m\n",
      "        \u001b[33m'\u001b[39;49;00m\u001b[33mactionGroup\u001b[39;49;00m\u001b[33m'\u001b[39;49;00m: actionGroup,\u001b[37m\u001b[39;49;00m\n",
      "        \u001b[33m'\u001b[39;49;00m\u001b[33mfunction\u001b[39;49;00m\u001b[33m'\u001b[39;49;00m: function,\u001b[37m\u001b[39;49;00m\n",
      "        \u001b[33m'\u001b[39;49;00m\u001b[33mfunctionResponse\u001b[39;49;00m\u001b[33m'\u001b[39;49;00m: {\u001b[37m\u001b[39;49;00m\n",
      "            \u001b[33m'\u001b[39;49;00m\u001b[33mresponseBody\u001b[39;49;00m\u001b[33m'\u001b[39;49;00m: responseBody\u001b[37m\u001b[39;49;00m\n",
      "        }\u001b[37m\u001b[39;49;00m\n",
      "\u001b[37m\u001b[39;49;00m\n",
      "    }\u001b[37m\u001b[39;49;00m\n",
      "\u001b[37m\u001b[39;49;00m\n",
      "    dummy_function_response = {\u001b[33m'\u001b[39;49;00m\u001b[33mresponse\u001b[39;49;00m\u001b[33m'\u001b[39;49;00m: action_response, \u001b[33m'\u001b[39;49;00m\u001b[33mmessageVersion\u001b[39;49;00m\u001b[33m'\u001b[39;49;00m: event[\u001b[33m'\u001b[39;49;00m\u001b[33mmessageVersion\u001b[39;49;00m\u001b[33m'\u001b[39;49;00m]}\u001b[37m\u001b[39;49;00m\n",
      "    \u001b[36mprint\u001b[39;49;00m(\u001b[33m\"\u001b[39;49;00m\u001b[33mResponse: \u001b[39;49;00m\u001b[33m{}\u001b[39;49;00m\u001b[33m\"\u001b[39;49;00m.format(dummy_function_response))\u001b[37m\u001b[39;49;00m\n",
      "\u001b[37m\u001b[39;49;00m\n",
      "    \u001b[34mreturn\u001b[39;49;00m dummy_function_response\u001b[37m\u001b[39;49;00m\n"
     ]
    }
   ],
   "source": [
    "!pygmentize lambda_function_financials.py"
   ]
  },
  {
   "cell_type": "code",
   "execution_count": 15,
   "id": "7e3b0e84-1a79-4c25-ba4b-b2eab90a8fbf",
   "metadata": {
    "tags": []
   },
   "outputs": [],
   "source": [
    "# Package up the lambda function code\n",
    "s = BytesIO()\n",
    "z = zipfile.ZipFile(s, 'w')\n",
    "z.write(lambda_code_path_financials)\n",
    "z.close()\n",
    "zip_content = s.getvalue()\n",
    "\n",
    "# Create Lambda Function\n",
    "lambda_function_financials = lambda_client.create_function(\n",
    "    FunctionName=lambda_name_financials,\n",
    "    Runtime='python3.12',\n",
    "    Timeout=180,\n",
    "    Role=lambda_iam_role['Role']['Arn'],\n",
    "    Code={'ZipFile': zip_content},\n",
    "    Handler='lambda_function_financials.lambda_handler'\n",
    ")"
   ]
  },
  {
   "cell_type": "markdown",
   "id": "ded8e395-f8b7-4a64-9bb4-ac3f7dc8742a",
   "metadata": {},
   "source": [
    "### Create Agent\n",
    "We will now create our agent. To do so, we first need to create the agent policies that allow bedrock model invocation  and s3 bucket access. "
   ]
  },
  {
   "cell_type": "code",
   "execution_count": 17,
   "id": "1d627d18-35f4-4752-9960-9d2ccf4f48f0",
   "metadata": {
    "tags": []
   },
   "outputs": [],
   "source": [
    "# Create IAM policies for agent\n",
    "\n",
    "bedrock_agent_bedrock_allow_policy_statement = {\n",
    "    \"Version\": \"2012-10-17\",\n",
    "    \"Statement\": [\n",
    "        {\n",
    "            \"Sid\": \"AmazonBedrockAgentBedrockFoundationModelPolicy\",\n",
    "            \"Effect\": \"Allow\",\n",
    "            \"Action\": \"bedrock:InvokeModel\",\n",
    "            \"Resource\": [\n",
    "                f\"arn:aws:bedrock:{region}::foundation-model/{model_id}\"\n",
    "            ]\n",
    "        }\n",
    "    ]\n",
    "}\n",
    "\n",
    "bedrock_policy_json = json.dumps(bedrock_agent_bedrock_allow_policy_statement)\n",
    "\n",
    "agent_bedrock_policy = iam_client.create_policy(\n",
    "    PolicyName=bedrock_agent_bedrock_allow_policy_name,\n",
    "    PolicyDocument=bedrock_policy_json\n",
    ")\n",
    "\n"
   ]
  },
  {
   "cell_type": "markdown",
   "id": "12e58ba0-1281-4950-b173-0d6d89d5934e",
   "metadata": {},
   "source": [
    "Next, we will create a policy document that allows fetching of the Agent's OpenAPI schema from S3:"
   ]
  },
  {
   "cell_type": "code",
   "execution_count": 18,
   "id": "55ff92f7-e525-4d28-87ca-c3b262d0ddd0",
   "metadata": {
    "tags": []
   },
   "outputs": [],
   "source": [
    "bedrock_agent_s3_allow_policy_statement = {\n",
    "    \"Version\": \"2012-10-17\",\n",
    "    \"Statement\": [\n",
    "        {\n",
    "            \"Sid\": \"AllowAgentAccessOpenAPISchema\",\n",
    "            \"Effect\": \"Allow\",\n",
    "            \"Action\": [\"s3:GetObject\"],\n",
    "            \"Resource\": [\n",
    "                schema_arn\n",
    "            ]\n",
    "        }\n",
    "    ]\n",
    "}\n",
    "\n",
    "\n",
    "bedrock_agent_s3_json = json.dumps(bedrock_agent_s3_allow_policy_statement)\n",
    "agent_s3_schema_policy = iam_client.create_policy(\n",
    "    PolicyName=bedrock_agent_s3_allow_policy_name,\n",
    "    Description=f\"Policy to allow invoke Lambda that was provisioned for it.\",\n",
    "    PolicyDocument=bedrock_agent_s3_json\n",
    ")"
   ]
  },
  {
   "cell_type": "code",
   "execution_count": 19,
   "id": "713bf0e1-7d3a-4308-864b-53e5a2d00e3b",
   "metadata": {
    "tags": []
   },
   "outputs": [],
   "source": [
    "bedrock_agent_kb_retrival_policy_statement = {\n",
    "    \"Version\": \"2012-10-17\",\n",
    "    \"Statement\": [\n",
    "        {\n",
    "            \"Effect\": \"Allow\",\n",
    "            \"Action\": [\n",
    "                \"bedrock:Retrieve\"\n",
    "            ],\n",
    "            \"Resource\": [\n",
    "                knowledge_base_arn\n",
    "            ]\n",
    "        }\n",
    "    ]\n",
    "}\n",
    "bedrock_agent_kb_json = json.dumps(bedrock_agent_kb_retrival_policy_statement)\n",
    "\n",
    "agent_kb_schema_policy = iam_client.create_policy(\n",
    "    PolicyName=bedrock_agent_kb_allow_policy_name,\n",
    "    Description=f\"Policy to allow agent to retrieve documents from knowledge base.\",\n",
    "    PolicyDocument=bedrock_agent_kb_json\n",
    ")"
   ]
  },
  {
   "cell_type": "markdown",
   "id": "7f65d3a1-5400-4da0-87b0-df9099f9d160",
   "metadata": {},
   "source": [
    "Finally, create a role with the above three policies attached"
   ]
  },
  {
   "cell_type": "code",
   "execution_count": 20,
   "id": "f1148115-bcc3-4e5b-ba58-f8946679036d",
   "metadata": {
    "tags": []
   },
   "outputs": [
    {
     "data": {
      "text/plain": [
       "{'ResponseMetadata': {'RequestId': 'f173cfa5-b9d4-432b-a0ed-2930bf33efff',\n",
       "  'HTTPStatusCode': 200,\n",
       "  'HTTPHeaders': {'date': 'Sat, 24 Aug 2024 14:08:04 GMT',\n",
       "   'x-amzn-requestid': 'f173cfa5-b9d4-432b-a0ed-2930bf33efff',\n",
       "   'content-type': 'text/xml',\n",
       "   'content-length': '212'},\n",
       "  'RetryAttempts': 0}}"
      ]
     },
     "execution_count": 20,
     "metadata": {},
     "output_type": "execute_result"
    }
   ],
   "source": [
    "# Create IAM Role for the agent and attach IAM policies\n",
    "assume_role_policy_document = {\n",
    "    \"Version\": \"2012-10-17\",\n",
    "    \"Statement\": [{\n",
    "          \"Effect\": \"Allow\",\n",
    "          \"Principal\": {\n",
    "            \"Service\": \"bedrock.amazonaws.com\"\n",
    "          },\n",
    "          \"Action\": \"sts:AssumeRole\"\n",
    "    }]\n",
    "}\n",
    "\n",
    "assume_role_policy_document_json = json.dumps(assume_role_policy_document)\n",
    "\n",
    "agent_role = iam_client.create_role(\n",
    "    RoleName=agent_role_name,\n",
    "    AssumeRolePolicyDocument=assume_role_policy_document_json\n",
    ")\n",
    "\n",
    "# Pause to make sure role is created\n",
    "time.sleep(10)\n",
    "    \n",
    "iam_client.attach_role_policy(\n",
    "    RoleName=agent_role_name,\n",
    "    PolicyArn=agent_bedrock_policy['Policy']['Arn']\n",
    ")\n",
    "\n",
    "iam_client.attach_role_policy(\n",
    "    RoleName=agent_role_name,\n",
    "    PolicyArn=agent_s3_schema_policy['Policy']['Arn']\n",
    ")\n",
    "\n",
    "iam_client.attach_role_policy(\n",
    "    RoleName=agent_role_name,\n",
    "    PolicyArn=agent_kb_schema_policy['Policy']['Arn']\n",
    ")"
   ]
  },
  {
   "cell_type": "markdown",
   "id": "96b86215-bc3d-47f6-a98c-6f96c513d886",
   "metadata": {},
   "source": [
    "#### Creating Agent\n",
    "Once the needed IAM role is created, we can use the bedrock agent client to create a new agent. To do so we use the `create_agent` function. It requires an agent name, underlying foundation model and instructions. You can also provide an agent description. Note that the agent created is not yet prepared. We will focus on preparing the agent and then using it to invoke actions and use other APIs"
   ]
  },
  {
   "cell_type": "code",
   "execution_count": 21,
   "id": "e1d7c63b-6bc0-4b48-a5c0-2db24fa5a21e",
   "metadata": {
    "tags": []
   },
   "outputs": [],
   "source": [
    "# Create Agent\n",
    "agent_instruction = \"\"\"\n",
    "You are an agent that can handle various queries and tasks related to financial planning including including looking up \n",
    "user details, check eligibility of the loan, apply credit card, check claims, insurance details, and share financial product information. If an user asks\n",
    "about your functionality, provide guidance in natural language \n",
    "\"\"\"\n",
    "\n",
    "response = bedrock_agent_client.create_agent(\n",
    "    agentName=agent_name,\n",
    "    agentResourceRoleArn=agent_role['Role']['Arn'],\n",
    "    description=\"Agent for handling customer's financial queries\",\n",
    "    idleSessionTTLInSeconds=1800,\n",
    "    foundationModel=model_id,\n",
    "    instruction=agent_instruction,\n",
    ")"
   ]
  },
  {
   "cell_type": "markdown",
   "id": "aa89ac0d-b1af-4efa-bbb8-59a8f486a622",
   "metadata": {},
   "source": [
    "Looking at the created agent, we can see its status and agent id"
   ]
  },
  {
   "cell_type": "code",
   "execution_count": 22,
   "id": "0eef5588-1f7f-4d94-8a10-3eb8ecf316d1",
   "metadata": {
    "tags": []
   },
   "outputs": [
    {
     "data": {
      "text/plain": [
       "{'ResponseMetadata': {'RequestId': '8a280ebe-a9da-4f00-9f43-e6ba92fce4c8',\n",
       "  'HTTPStatusCode': 202,\n",
       "  'HTTPHeaders': {'date': 'Sat, 24 Aug 2024 14:08:31 GMT',\n",
       "   'content-type': 'application/json',\n",
       "   'content-length': '887',\n",
       "   'connection': 'keep-alive',\n",
       "   'x-amzn-requestid': '8a280ebe-a9da-4f00-9f43-e6ba92fce4c8',\n",
       "   'x-amz-apigw-id': 'dBFm_G1dPHcErwg=',\n",
       "   'x-amzn-trace-id': 'Root=1-66c9e95f-5200df7a7f618f445bbbee6b'},\n",
       "  'RetryAttempts': 0},\n",
       " 'agent': {'agentArn': 'arn:aws:bedrock:us-west-2:963354651517:agent/P0N7MLXVYY',\n",
       "  'agentId': 'P0N7MLXVYY',\n",
       "  'agentName': 'financial-advisor-agent',\n",
       "  'agentResourceRoleArn': 'arn:aws:iam::963354651517:role/AmazonBedrockExecutionRoleForAgents_us-west-2-963354651517',\n",
       "  'agentStatus': 'CREATING',\n",
       "  'createdAt': datetime.datetime(2024, 8, 24, 14, 8, 31, 720443, tzinfo=tzlocal()),\n",
       "  'description': \"Agent for handling customer's financial queries\",\n",
       "  'foundationModel': 'anthropic.claude-3-sonnet-20240229-v1:0',\n",
       "  'idleSessionTTLInSeconds': 1800,\n",
       "  'instruction': '\\nYou are an agent that can handle various queries and tasks related to financial planning including including looking up \\nuser details, check eligibility of the loan, apply credit card, check claims, insurance details, and share financial product information. If an user asks\\nabout your functionality, provide guidance in natural language \\n',\n",
       "  'updatedAt': datetime.datetime(2024, 8, 24, 14, 8, 31, 720443, tzinfo=tzlocal())}}"
      ]
     },
     "execution_count": 22,
     "metadata": {},
     "output_type": "execute_result"
    }
   ],
   "source": [
    "response"
   ]
  },
  {
   "cell_type": "markdown",
   "id": "780ce247-ff4c-4ecf-8558-222581d2ea52",
   "metadata": {},
   "source": [
    "Let's now store the agent id in a local variable to use it on the next steps"
   ]
  },
  {
   "cell_type": "code",
   "execution_count": 23,
   "id": "4d2bf0ea-5c5c-4afc-9b4d-19158b48bb50",
   "metadata": {
    "tags": []
   },
   "outputs": [
    {
     "data": {
      "text/plain": [
       "'P0N7MLXVYY'"
      ]
     },
     "execution_count": 23,
     "metadata": {},
     "output_type": "execute_result"
    }
   ],
   "source": [
    "agent_id = response['agent']['agentId']\n",
    "agent_id"
   ]
  },
  {
   "cell_type": "markdown",
   "id": "32158234-b474-4bfa-8efd-afe5aa087df8",
   "metadata": {},
   "source": [
    "### Create Agent Action Group for Insurance \n",
    "We will now create and agent action group that uses the lambda function and API schema files created before.\n",
    "The `create_agent_action_group` function provides this functionality. We will use `DRAFT` as the agent version since we haven't yet create an agent version or alias. To inform the agent about the action group functionalities, we will provide an action group description containing the functionalities of the action group."
   ]
  },
  {
   "cell_type": "code",
   "execution_count": 24,
   "id": "ca4dd6c1-5151-4846-ac75-e8b23e299a90",
   "metadata": {
    "tags": []
   },
   "outputs": [],
   "source": [
    "# Pause to make sure agent is created\n",
    "time.sleep(30)\n",
    "# Now, we can configure and create an action group here:\n",
    "agent_action_group_response = bedrock_agent_client.create_agent_action_group(\n",
    "    agentId=agent_id,\n",
    "    agentVersion='DRAFT',\n",
    "    actionGroupExecutor={\n",
    "        'lambda': lambda_function_insurance['FunctionArn']\n",
    "    },\n",
    "    actionGroupName='ClaimManagementActionGroup',\n",
    "    apiSchema={\n",
    "        's3': {\n",
    "            's3BucketName': bucket_name,\n",
    "            's3ObjectKey': bucket_key\n",
    "        }\n",
    "    },\n",
    "    description='Actions for listing claims, identifying missing paperwork, sending reminders'\n",
    ")"
   ]
  },
  {
   "cell_type": "code",
   "execution_count": 25,
   "id": "74945f90-4777-40da-bc5e-ca0b31fdbb6b",
   "metadata": {
    "tags": []
   },
   "outputs": [
    {
     "data": {
      "text/plain": [
       "{'ResponseMetadata': {'RequestId': '319010ff-c66e-4378-a2bc-05ab442d87d8',\n",
       "  'HTTPStatusCode': 200,\n",
       "  'HTTPHeaders': {'date': 'Sat, 24 Aug 2024 14:09:10 GMT',\n",
       "   'content-type': 'application/json',\n",
       "   'content-length': '632',\n",
       "   'connection': 'keep-alive',\n",
       "   'x-amzn-requestid': '319010ff-c66e-4378-a2bc-05ab442d87d8',\n",
       "   'x-amz-apigw-id': 'dBFs4Gb7vHcEs2g=',\n",
       "   'x-amzn-trace-id': 'Root=1-66c9e985-151f980c11dc6cca2fbd3dc5'},\n",
       "  'RetryAttempts': 0},\n",
       " 'agentActionGroup': {'actionGroupExecutor': {'lambda': 'arn:aws:lambda:us-west-2:963354651517:function:financial-advisor-agent-us-west-2-963354651517-insurance'},\n",
       "  'actionGroupId': 'IECAU4E2FU',\n",
       "  'actionGroupName': 'ClaimManagementActionGroup',\n",
       "  'actionGroupState': 'ENABLED',\n",
       "  'agentId': 'P0N7MLXVYY',\n",
       "  'agentVersion': 'DRAFT',\n",
       "  'apiSchema': {'s3': {'s3BucketName': 'financial-advisor-agent-us-west-2-963354651517',\n",
       "    's3ObjectKey': 'financial-advisor-agent-schema.json'}},\n",
       "  'createdAt': datetime.datetime(2024, 8, 24, 14, 9, 10, 102450, tzinfo=tzlocal()),\n",
       "  'description': 'Actions for listing claims, identifying missing paperwork, sending reminders',\n",
       "  'updatedAt': datetime.datetime(2024, 8, 24, 14, 9, 10, 102450, tzinfo=tzlocal())}}"
      ]
     },
     "execution_count": 25,
     "metadata": {},
     "output_type": "execute_result"
    }
   ],
   "source": [
    "agent_action_group_response"
   ]
  },
  {
   "cell_type": "markdown",
   "id": "bf7d448a-0531-4e74-835a-88080fe91ff2",
   "metadata": {},
   "source": [
    "### Allowing Agent to invoke Action Group Lambda\n",
    "Before using our action group, we need to allow our agent to invoke the lambda function associated to the action group. This is done via resource-based policy. Let's add the resource-based policy to the lambda function created"
   ]
  },
  {
   "cell_type": "code",
   "execution_count": 27,
   "id": "de7780db-b23e-4c05-94ff-3872b2b5b38b",
   "metadata": {},
   "outputs": [],
   "source": [
    "# Create allow invoke permission on lambda\n",
    "response = lambda_client.add_permission(\n",
    "    FunctionName=lambda_name_insurance,\n",
    "    StatementId='allow_bedrock',\n",
    "    Action='lambda:InvokeFunction',\n",
    "    Principal='bedrock.amazonaws.com',\n",
    "    SourceArn=f\"arn:aws:bedrock:{region}:{account_id}:agent/{agent_id}\",\n",
    ")"
   ]
  },
  {
   "cell_type": "markdown",
   "id": "f8eba0d7-6258-4bbb-a389-aae09ad40598",
   "metadata": {},
   "source": [
    "## Create Agent Action Group for Financials\n",
    "We will now create an agent action group that uses the lambda function created earlier. The [`create_agent_action_group`](https://boto3.amazonaws.com/v1/documentation/api/latest/reference/services/bedrock-agent/client/create_agent_action_group.html) function provides this functionality. We will use `DRAFT` as the agent version since we haven't yet created an agent version or alias. To inform the agent about the action group capabilities, we provide an action group description.\n",
    "\n",
    "In this example, we provide the Action Group functionality using a `functionSchema`. You can alternatively provide an `APISchema`. The notebook [02-create-agent-with-api-schema.ipynb](02-create-agent-with-api-schema/02-create-agent-with-api-schema.ipynb) provides an example of that approach.\n",
    "\n",
    "To define the functions using a function schema, you need to provide the `name`, `description` and `parameters` for each function."
   ]
  },
  {
   "cell_type": "code",
   "execution_count": 34,
   "id": "d0813354-a9c3-4eff-8e7d-76ea227e8bd6",
   "metadata": {
    "tags": []
   },
   "outputs": [],
   "source": [
    "agent_functions = [\n",
    "    {\n",
    "       \"name\": \"loan_eligibility\",\n",
    "       \"description\": \"To check the eligibility of the loan for the current user. This function to be called only when the userid is available and agent or model cannot call this function to get the user id. User Id needs to be asked from user only. \",\n",
    "       \"parameters\": {\n",
    "           \"userid\" : {\n",
    "              \"description\": \"unqiue login id or user id of the user\",\n",
    "              \"required\": True,\n",
    "              \"type\": \"string\"\n",
    "         }\n",
    "       }\n",
    "    },\n",
    "    {\n",
    "      \"name\": \"get_user_finances\",\n",
    "      \"description\": \"To get the financial details of current user like monthly salary, credit score, assets, investment, etc. This function to be called only when the userid is available and agent or model cannot call this function to get the user id. User Id needs to be asked from user only. \",\n",
    "      \"parameters\": {\n",
    "           \"userid\" : {\n",
    "              \"description\": \"unqiue login id or user id of the user\",\n",
    "              \"required\": True,\n",
    "              \"type\": \"string\"\n",
    "         }\n",
    "       }\n",
    "    },\n",
    "]"
   ]
  },
  {
   "cell_type": "code",
   "execution_count": 35,
   "id": "07a6183d-bd47-4ed4-aa73-157623e200b4",
   "metadata": {},
   "outputs": [],
   "source": [
    "# Now, we can configure and create an action group here:\n",
    "agent_action_group_response = bedrock_agent_client.create_agent_action_group(\n",
    "    agentId=agent_id,\n",
    "    agentVersion='DRAFT',\n",
    "    actionGroupExecutor={\n",
    "        'lambda': lambda_function_financials['FunctionArn']\n",
    "    },\n",
    "    actionGroupName='FinancialManagementActionGroup',\n",
    "    functionSchema={\n",
    "        'functions': agent_functions\n",
    "    },\n",
    "    description=\"To gather the current user details and loan eligibility criteria\"\n",
    ")"
   ]
  },
  {
   "cell_type": "markdown",
   "id": "04586a08-764b-499a-a52a-5b199b061890",
   "metadata": {},
   "source": [
    "### Allowing Agent to invoke Action Group Lambda\n",
    "Before using our action group, we need to allow our agent to invoke the lambda function associated to the action group. This is done via resource-based policy. Let's add the resource-based policy to the lambda function created"
   ]
  },
  {
   "cell_type": "code",
   "execution_count": 36,
   "id": "33555ead-bc3c-420b-b0fd-ee644863ce57",
   "metadata": {
    "tags": []
   },
   "outputs": [],
   "source": [
    "# Create allow invoke permission on lambda\n",
    "response = lambda_client.add_permission(\n",
    "    FunctionName=lambda_name_financials,\n",
    "    StatementId='allow_bedrock',\n",
    "    Action='lambda:InvokeFunction',\n",
    "    Principal='bedrock.amazonaws.com',\n",
    "    SourceArn=f\"arn:aws:bedrock:{region}:{account_id}:agent/{agent_id}\",\n",
    ")"
   ]
  },
  {
   "cell_type": "markdown",
   "id": "6f73806e-3478-496b-a9ec-d65abaccbe27",
   "metadata": {
    "tags": []
   },
   "source": [
    "### Associate agent to the Knowledge Base\n",
    "Next, we need to associate the agent created with the Knowledge Base for the Bedrock documentation"
   ]
  },
  {
   "cell_type": "code",
   "execution_count": 41,
   "id": "79f3d46e-94dc-4fbb-99c8-dead95a82530",
   "metadata": {},
   "outputs": [],
   "source": [
    "agent_kb_description = bedrock_agent_client.associate_agent_knowledge_base(\n",
    "    agentId=agent_id,\n",
    "    agentVersion='DRAFT',\n",
    "    description='Use the information in this knowledge base to answer the user queries related to the financial products, investments, queries, etc.',\n",
    "    knowledgeBaseId=knowledge_base_id \n",
    ")"
   ]
  },
  {
   "cell_type": "markdown",
   "id": "c449b466-3d92-49e7-aef2-168c8f669c40",
   "metadata": {},
   "source": [
    "### Preparing Agent\n",
    "Let's create a DRAFT version of the agent that can be used for internal testing."
   ]
  },
  {
   "cell_type": "code",
   "execution_count": 42,
   "id": "37a8d75d-9661-4b4f-95af-c3ab05e00b75",
   "metadata": {
    "tags": []
   },
   "outputs": [
    {
     "data": {
      "text/plain": [
       "{'ResponseMetadata': {'RequestId': 'b3218f3a-6345-478c-bc51-6e7df2bf2a70',\n",
       "  'HTTPStatusCode': 202,\n",
       "  'HTTPHeaders': {'date': 'Sat, 24 Aug 2024 14:28:35 GMT',\n",
       "   'content-type': 'application/json',\n",
       "   'content-length': '119',\n",
       "   'connection': 'keep-alive',\n",
       "   'x-amzn-requestid': 'b3218f3a-6345-478c-bc51-6e7df2bf2a70',\n",
       "   'x-amz-apigw-id': 'dBIjDHRcPHcET-A=',\n",
       "   'x-amzn-trace-id': 'Root=1-66c9ee13-3bb80ae67ec428ba1fbbe427'},\n",
       "  'RetryAttempts': 0},\n",
       " 'agentId': 'P0N7MLXVYY',\n",
       " 'agentStatus': 'PREPARING',\n",
       " 'agentVersion': 'DRAFT',\n",
       " 'preparedAt': datetime.datetime(2024, 8, 24, 14, 28, 35, 322433, tzinfo=tzlocal())}"
      ]
     },
     "execution_count": 42,
     "metadata": {},
     "output_type": "execute_result"
    }
   ],
   "source": [
    "agent_prepare = bedrock_agent_client.prepare_agent(agentId=agent_id)\n",
    "agent_prepare"
   ]
  },
  {
   "cell_type": "markdown",
   "id": "092dc0d0-3597-4ec2-8959-e1c968c9670b",
   "metadata": {},
   "source": [
    "### Create Agent alias\n",
    "We will now create an alias of the agent that can be used to deploy the agent."
   ]
  },
  {
   "cell_type": "code",
   "execution_count": 43,
   "id": "3f93af07-ac4b-45a0-89b5-7a90929df6f5",
   "metadata": {
    "tags": []
   },
   "outputs": [],
   "source": [
    "# Pause to make sure agent is prepared\n",
    "time.sleep(30)\n",
    "agent_alias = bedrock_agent_client.create_agent_alias(\n",
    "    agentId=agent_id,\n",
    "    agentAliasName=agent_alias_name\n",
    ")"
   ]
  },
  {
   "cell_type": "code",
   "execution_count": 44,
   "id": "35de5613-638c-4f04-88e0-6fc9689b5f5d",
   "metadata": {
    "tags": []
   },
   "outputs": [
    {
     "data": {
      "text/plain": [
       "{'ResponseMetadata': {'RequestId': '0ccfbcc8-abff-4f76-8afc-995dcf3a46bb',\n",
       "  'HTTPStatusCode': 202,\n",
       "  'HTTPHeaders': {'date': 'Sat, 24 Aug 2024 14:29:07 GMT',\n",
       "   'content-type': 'application/json',\n",
       "   'content-length': '340',\n",
       "   'connection': 'keep-alive',\n",
       "   'x-amzn-requestid': '0ccfbcc8-abff-4f76-8afc-995dcf3a46bb',\n",
       "   'x-amz-apigw-id': 'dBIoBEFSvHcEtJQ=',\n",
       "   'x-amzn-trace-id': 'Root=1-66c9ee33-2f86e17077607eb45dbd2074'},\n",
       "  'RetryAttempts': 0},\n",
       " 'agentAlias': {'agentAliasArn': 'arn:aws:bedrock:us-west-2:963354651517:agent-alias/P0N7MLXVYY/V3UYTX4P1W',\n",
       "  'agentAliasId': 'V3UYTX4P1W',\n",
       "  'agentAliasName': 'workshop-alias',\n",
       "  'agentAliasStatus': 'CREATING',\n",
       "  'agentId': 'P0N7MLXVYY',\n",
       "  'createdAt': datetime.datetime(2024, 8, 24, 14, 29, 7, 153331, tzinfo=tzlocal()),\n",
       "  'routingConfiguration': [{}],\n",
       "  'updatedAt': datetime.datetime(2024, 8, 24, 14, 29, 7, 153331, tzinfo=tzlocal())}}"
      ]
     },
     "execution_count": 44,
     "metadata": {},
     "output_type": "execute_result"
    }
   ],
   "source": [
    "agent_alias"
   ]
  },
  {
   "cell_type": "markdown",
   "id": "ada2844c-04fd-4dfc-a87d-0a668afb8f82",
   "metadata": {},
   "source": [
    "### Invoke Agent\n",
    "Now that we've created the agent, let's use the `bedrock-agent-runtime` client to invoke this agent and perform some tasks."
   ]
  },
  {
   "cell_type": "code",
   "execution_count": 45,
   "id": "22bbb36a",
   "metadata": {
    "tags": []
   },
   "outputs": [],
   "source": [
    "time.sleep(30)\n",
    "# Extract the agentAliasId from the response\n",
    "agent_alias_id = agent_alias['agentAlias']['agentAliasId']"
   ]
  },
  {
   "cell_type": "code",
   "execution_count": 46,
   "id": "fb174c5e-6cbc-4314-8b0b-a51123a0386a",
   "metadata": {
    "tags": []
   },
   "outputs": [
    {
     "name": "stderr",
     "output_type": "stream",
     "text": [
      "[2024-08-24 14:29:37,382] p1117 {1019905135.py:18} INFO - None\n"
     ]
    },
    {
     "name": "stdout",
     "output_type": "stream",
     "text": [
      "{'ResponseMetadata': {'HTTPHeaders': {'connection': 'keep-alive',\n",
      "                                      'content-type': 'application/json',\n",
      "                                      'date': 'Sat, 24 Aug 2024 14:29:37 GMT',\n",
      "                                      'transfer-encoding': 'chunked',\n",
      "                                      'x-amz-bedrock-agent-session-id': '4a603b6a-6225-11ef-b77b-72aa1cd3978e',\n",
      "                                      'x-amzn-bedrock-agent-content-type': 'application/json',\n",
      "                                      'x-amzn-requestid': '5b486509-2c72-4c24-b13c-e0fd673c0293'},\n",
      "                      'HTTPStatusCode': 200,\n",
      "                      'RequestId': '5b486509-2c72-4c24-b13c-e0fd673c0293',\n",
      "                      'RetryAttempts': 0},\n",
      " 'completion': <botocore.eventstream.EventStream object at 0x7f3d2439a4d0>,\n",
      " 'contentType': 'application/json',\n",
      " 'sessionId': '4a603b6a-6225-11ef-b77b-72aa1cd3978e'}\n"
     ]
    }
   ],
   "source": [
    "## create a random id for session initiator id\n",
    "session_id:str = str(uuid.uuid1())\n",
    "enable_trace:bool = False\n",
    "end_session:bool = False\n",
    "# Pause to make sure agent alias is ready\n",
    "# time.sleep(30)\n",
    "\n",
    "# invoke the agent API\n",
    "agentResponse = bedrock_agent_runtime_client.invoke_agent(\n",
    "    inputText=\"what are the open claims?\",\n",
    "    agentId=agent_id,\n",
    "    agentAliasId=agent_alias_id, \n",
    "    sessionId=session_id,\n",
    "    enableTrace=enable_trace, \n",
    "    endSession= end_session\n",
    ")\n",
    "\n",
    "logger.info(pprint.pprint(agentResponse))"
   ]
  },
  {
   "cell_type": "code",
   "execution_count": 47,
   "id": "3df9a35c-f07b-4640-b07b-686f9ee20e77",
   "metadata": {
    "tags": []
   },
   "outputs": [
    {
     "name": "stderr",
     "output_type": "stream",
     "text": [
      "[2024-08-24 14:29:50,699] p1117 {<timed exec>:6} INFO - Final answer ->\n",
      "Based on the information retrieved, here are the details of the open insurance claims:\n",
      "\n",
      "Claim ID: claim-006\n",
      "Policy Holder ID: A945684  \n",
      "Claim Status: Open\n",
      "Policy Type: Vehicle\n",
      "Created Date: 20-May-2023\n",
      "Last Activity Date: 23-Jul-2023\n",
      "\n",
      "Claim ID: claim-857 \n",
      "Policy Holder ID: A645987\n",
      "Claim Status: Open  \n",
      "Policy Type: Vehicle\n",
      "Created Date: 21-Jul-2023\n",
      "Last Activity Date: 25-Jul-2023\n",
      "\n",
      "Claim ID: claim-334\n",
      "Policy Holder ID: A987654\n",
      "Claim Status: Open\n",
      "Policy Type: Vehicle  \n",
      "Created Date: 18-Apr-2023\n",
      "Last Activity Date: 20-Apr-2023\n"
     ]
    },
    {
     "name": "stdout",
     "output_type": "stream",
     "text": [
      "CPU times: user 0 ns, sys: 4.07 ms, total: 4.07 ms\n",
      "Wall time: 13.3 s\n"
     ]
    }
   ],
   "source": [
    "%%time\n",
    "event_stream = agentResponse['completion']\n",
    "try:\n",
    "    for event in event_stream:        \n",
    "        if 'chunk' in event:\n",
    "            data = event['chunk']['bytes']\n",
    "            logger.info(f\"Final answer ->\\n{data.decode('utf8')}\")\n",
    "            agent_answer = data.decode('utf8')\n",
    "            end_event_received = True\n",
    "            # End event indicates that the request finished successfully\n",
    "        elif 'trace' in event:\n",
    "            logger.info(json.dumps(event['trace'], indent=2))\n",
    "        else:\n",
    "            raise Exception(\"unexpected event.\", event)\n",
    "except Exception as e:\n",
    "    raise Exception(\"unexpected event.\", e)"
   ]
  },
  {
   "cell_type": "code",
   "execution_count": 48,
   "id": "72fbe3c9-c32f-44a6-8579-1d432a15036e",
   "metadata": {
    "tags": []
   },
   "outputs": [
    {
     "name": "stdout",
     "output_type": "stream",
     "text": [
      "Based on the information retrieved, here are the details of the open insurance claims:\n",
      "\n",
      "Claim ID: claim-006\n",
      "Policy Holder ID: A945684  \n",
      "Claim Status: Open\n",
      "Policy Type: Vehicle\n",
      "Created Date: 20-May-2023\n",
      "Last Activity Date: 23-Jul-2023\n",
      "\n",
      "Claim ID: claim-857 \n",
      "Policy Holder ID: A645987\n",
      "Claim Status: Open  \n",
      "Policy Type: Vehicle\n",
      "Created Date: 21-Jul-2023\n",
      "Last Activity Date: 25-Jul-2023\n",
      "\n",
      "Claim ID: claim-334\n",
      "Policy Holder ID: A987654\n",
      "Claim Status: Open\n",
      "Policy Type: Vehicle  \n",
      "Created Date: 18-Apr-2023\n",
      "Last Activity Date: 20-Apr-2023\n"
     ]
    }
   ],
   "source": [
    "# And here is the response if you just want to see agent's reply\n",
    "print(agent_answer)"
   ]
  },
  {
   "cell_type": "code",
   "execution_count": 49,
   "id": "78ebf3ce",
   "metadata": {
    "tags": []
   },
   "outputs": [],
   "source": [
    "def simple_agent_invoke(input_text, agent_id, agent_alias_id, session_id=None, enable_trace=False, end_session=False):\n",
    "    agentResponse = bedrock_agent_runtime_client.invoke_agent(\n",
    "        inputText=input_text,\n",
    "        agentId=agent_id,\n",
    "        agentAliasId=agent_alias_id, \n",
    "        sessionId=session_id,\n",
    "        enableTrace=enable_trace, \n",
    "        endSession= end_session\n",
    "    )\n",
    "    \n",
    "    event_stream = agentResponse['completion']\n",
    "    try:\n",
    "        for event in event_stream:        \n",
    "            if 'chunk' in event:\n",
    "                data = event['chunk']['bytes']\n",
    "                logger.info(f\"Final answer ->\\n{data.decode('utf8')}\")\n",
    "                agent_answer = data.decode('utf8')\n",
    "                end_event_received = True\n",
    "                # End event indicates that the request finished successfully\n",
    "            elif 'trace' in event:\n",
    "                logger.info(json.dumps(event['trace'], indent=2))\n",
    "            else:\n",
    "                raise Exception(\"unexpected event.\", event)\n",
    "    except Exception as e:\n",
    "        raise Exception(\"unexpected event.\", e)"
   ]
  },
  {
   "cell_type": "code",
   "execution_count": 52,
   "id": "62e3ea2f",
   "metadata": {
    "tags": []
   },
   "outputs": [
    {
     "name": "stderr",
     "output_type": "stream",
     "text": [
      "[2024-08-24 14:39:03,738] p1117 {3357547408.py:16} INFO - Final answer ->\n",
      "To check your eligibility for a car loan, I will need your user ID or login ID. Could you please provide me with your user ID?\n"
     ]
    }
   ],
   "source": [
    "# query = \"tell me about claim-857\"\n",
    "query = \"I want to buy a car. Am I eligible for the same?\"\n",
    "simple_agent_invoke(query, agent_id, agent_alias_id, session_id)"
   ]
  },
  {
   "cell_type": "code",
   "execution_count": 57,
   "id": "057c2130-c2cd-425e-a4a0-ab0dd5f42d13",
   "metadata": {
    "tags": []
   },
   "outputs": [
    {
     "name": "stderr",
     "output_type": "stream",
     "text": [
      "[2024-08-24 16:29:54,217] p1117 {3357547408.py:16} INFO - Final answer ->\n",
      "Based on Rohan's financial details:\n",
      "- Credit score of 750 (good)\n",
      "- Monthly income of Rs. 100,000\n",
      "- Assets worth Rs. 100,000\n",
      "\n",
      "The following loan options may be suitable for him:\n",
      "\n",
      "\n",
      "\n",
      "- Personal loans: Rohan can avail of unsecured personal loans from banks and NBFCs based on his income and credit score. The loan amount and interest rate will depend on his eligibility.\n",
      "\n",
      "- Credit cards: With a good credit score, Rohan can apply for credit cards from various banks and NBFCs. The credit limit will depend on his income and existing debt obligations.\n",
      "\n",
      "- Vehicle loans: If Rohan plans to purchase a new or used vehicle, he can apply for a vehicle loan. The loan amount will depend on the vehicle's price, and he may need to provide a down payment.\n",
      "\n",
      "\n",
      "\n",
      "\n",
      "\n",
      "\n",
      "Additionally, with assets worth Rs. 100,000, Rohan may be able to avail of secured loans like:\n",
      "\n",
      "- Loan against property: If Rohan owns a property, he can pledge it as collateral and avail of a loan against the property value. This loan typically has lower interest rates compared to unsecured loans.\n",
      "\n",
      "- Loan against securities: If Rohan has investments in stocks, mutual funds, or other securities, he can pledge them as collateral and avail of a loan against their value.\n",
      "\n",
      "The loan amount and interest rate for secured loans will depend on the value of the collateral and Rohan's overall financial profile.\n",
      "\n",
      "\n",
      "\n"
     ]
    }
   ],
   "source": [
    "query = \"rohan is my userid\"\n",
    "simple_agent_invoke(query, agent_id, agent_alias_id, session_id)"
   ]
  },
  {
   "cell_type": "code",
   "execution_count": 58,
   "id": "9d764435-22e0-4f71-8a63-c5e9f2ba1b8c",
   "metadata": {
    "tags": []
   },
   "outputs": [
    {
     "name": "stderr",
     "output_type": "stream",
     "text": [
      "[2024-08-24 16:30:47,142] p1117 {3357547408.py:16} INFO - Final answer ->\n",
      "Based on the <REDACTED> function results, your investment portfolio is as follows:\n",
      "\n",
      "Investment Portfolio:\n",
      "- Debt: 10%\n",
      "- Equity: 60% \n",
      "- Mutual Funds: 30%\n",
      "\n",
      "The function results did not provide the specific amounts invested in each category, but showed that you have total investments worth Rs. 30,000.\n"
     ]
    }
   ],
   "source": [
    "query = \"how my investment portfolio looks like?\"\n",
    "simple_agent_invoke(query, agent_id, agent_alias_id, session_id)"
   ]
  },
  {
   "cell_type": "code",
   "execution_count": 51,
   "id": "34b7547b",
   "metadata": {
    "tags": []
   },
   "outputs": [
    {
     "name": "stderr",
     "output_type": "stream",
     "text": [
      "[2024-08-24 14:30:21,745] p1117 {3357547408.py:16} INFO - Final answer ->\n",
      "I have sent reminders for all open insurance claims that had pending documents:\n",
      "\n",
      "For claim-006, a reminder was sent to upload AccidentImages with tracking ID 50e8400-e29b-41d4-a716-446655440000.\n",
      "\n",
      "For claim-857, a reminder was sent to upload DriverLicense and VehicleRegistration with tracking ID 50e8400-e29b-41d4-a716-446655440000.\n",
      "\n",
      "No reminder was sent for claim-334 as there were no pending documents for that claim.\n"
     ]
    }
   ],
   "source": [
    "simple_agent_invoke(\"send reminders for all open claims that have missing paperwork\", agent_id, agent_alias_id, session_id)"
   ]
  },
  {
   "cell_type": "code",
   "execution_count": null,
   "id": "7a5069a6-09ae-457f-9b37-d89918fa8587",
   "metadata": {},
   "outputs": [],
   "source": []
  },
  {
   "cell_type": "code",
   "execution_count": null,
   "id": "f8ce346e-831b-47d2-b695-eba2f94cf3c1",
   "metadata": {},
   "outputs": [],
   "source": []
  },
  {
   "cell_type": "code",
   "execution_count": null,
   "id": "96810d90-2765-4898-af74-9f70499a1aa3",
   "metadata": {},
   "outputs": [],
   "source": []
  },
  {
   "cell_type": "markdown",
   "id": "cc47a158-34d0-436f-832f-774482a5275d",
   "metadata": {},
   "source": [
    "### Clean up (optional)\n",
    "The next steps are optional and demonstrate how to delete our agent. To delete the agent we need to:\n",
    "1. update the action group to disable it\n",
    "2. delete agent action group\n",
    "3. delete agent alias\n",
    "4. delete agent\n",
    "5. delete lambda function\n",
    "6. empty created s3 bucket\n",
    "7. delete s3 bucket"
   ]
  },
  {
   "cell_type": "code",
   "execution_count": null,
   "id": "0d06b9fa-9510-4702-8321-e3c3a8a161f6",
   "metadata": {
    "tags": []
   },
   "outputs": [],
   "source": [
    " # This is not needed, you can delete agent successfully after deleting alias only\n",
    "# Additionaly, you need to disable it first\n",
    "\n",
    "action_group_id = agent_action_group_response['agentActionGroup']['actionGroupId']\n",
    "action_group_name = agent_action_group_response['agentActionGroup']['actionGroupName']\n",
    "\n",
    "response = bedrock_agent_client.update_agent_action_group(\n",
    "    agentId=agent_id,\n",
    "    agentVersion='DRAFT',\n",
    "    actionGroupId= action_group_id,\n",
    "    actionGroupName=action_group_name,\n",
    "    actionGroupExecutor={\n",
    "        'lambda': lambda_function['FunctionArn']\n",
    "    },\n",
    "    apiSchema={\n",
    "        's3': {\n",
    "            's3BucketName': bucket_name,\n",
    "            's3ObjectKey': bucket_key\n",
    "        }\n",
    "    },\n",
    "    actionGroupState='DISABLED',\n",
    ")\n",
    "\n",
    "action_group_deletion = bedrock_agent_client.delete_agent_action_group(\n",
    "    agentId=agent_id,\n",
    "    agentVersion='DRAFT',\n",
    "    actionGroupId= action_group_id\n",
    ")"
   ]
  },
  {
   "cell_type": "code",
   "execution_count": null,
   "id": "f5f9dfae-aae2-4384-b2af-747a4a553e76",
   "metadata": {
    "tags": []
   },
   "outputs": [],
   "source": [
    "agent_alias_deletion = bedrock_agent_client.delete_agent_alias(\n",
    "    agentId=agent_id,\n",
    "    agentAliasId=agent_alias['agentAlias']['agentAliasId']\n",
    ")"
   ]
  },
  {
   "cell_type": "code",
   "execution_count": null,
   "id": "6ada8823-cfc2-4e41-9e20-90a88705bcf5",
   "metadata": {
    "tags": []
   },
   "outputs": [],
   "source": [
    "agent_deletion = bedrock_agent_client.delete_agent(\n",
    "    agentId=agent_id\n",
    ")"
   ]
  },
  {
   "cell_type": "code",
   "execution_count": null,
   "id": "f023d291-220d-48f9-8e5d-0d9e3f93861e",
   "metadata": {
    "tags": []
   },
   "outputs": [],
   "source": [
    "# Delete Lambda function\n",
    "lambda_client.delete_function(\n",
    "    FunctionName=lambda_name\n",
    ")"
   ]
  },
  {
   "cell_type": "code",
   "execution_count": null,
   "id": "a33a1470-0927-4217-bb5e-4a5fb9abdaf1",
   "metadata": {
    "tags": []
   },
   "outputs": [],
   "source": [
    "# Empty and delete S3 Bucket\n",
    "\n",
    "objects = s3_client.list_objects(Bucket=bucket_name)  \n",
    "if 'Contents' in objects:\n",
    "    for obj in objects['Contents']:\n",
    "        s3_client.delete_object(Bucket=bucket_name, Key=obj['Key']) \n",
    "s3_client.delete_bucket(Bucket=bucket_name)"
   ]
  },
  {
   "cell_type": "code",
   "execution_count": null,
   "id": "d50707a8-afd9-4af8-9ee3-1927afde9ce6",
   "metadata": {
    "tags": []
   },
   "outputs": [],
   "source": [
    "# Delete IAM Roles and policies\n",
    "\n",
    "for policy in [bedrock_agent_bedrock_allow_policy_name, bedrock_agent_s3_allow_policy_name]:\n",
    "    iam_client.detach_role_policy(RoleName=agent_role_name, PolicyArn=f'arn:aws:iam::{account_id}:policy/{policy}')\n",
    "    \n",
    "iam_client.detach_role_policy(RoleName=lambda_role_name, PolicyArn='arn:aws:iam::aws:policy/service-role/AWSLambdaBasicExecutionRole')\n",
    "\n",
    "for role_name in [agent_role_name, lambda_role_name]:\n",
    "    iam_client.delete_role(\n",
    "        RoleName=role_name\n",
    "    )\n",
    "\n",
    "for policy in [agent_bedrock_policy, agent_s3_schema_policy]:\n",
    "    iam_client.delete_policy(\n",
    "        PolicyArn=policy['Policy']['Arn']\n",
    ")"
   ]
  },
  {
   "cell_type": "markdown",
   "id": "47ce5c54-3e54-40fc-aa10-d7ec785ea832",
   "metadata": {},
   "source": [
    "## Conclusion\n",
    "We have now experimented with using `boto3` SDK to create, invoke and delete an agent.\n",
    "\n",
    "### Take aways\n",
    "- Adapt this notebook to create new agents for your application\n",
    "\n",
    "## Thank You"
   ]
  }
 ],
 "metadata": {
  "availableInstances": [
   {
    "_defaultOrder": 0,
    "_isFastLaunch": true,
    "category": "General purpose",
    "gpuNum": 0,
    "hideHardwareSpecs": false,
    "memoryGiB": 4,
    "name": "ml.t3.medium",
    "vcpuNum": 2
   },
   {
    "_defaultOrder": 1,
    "_isFastLaunch": false,
    "category": "General purpose",
    "gpuNum": 0,
    "hideHardwareSpecs": false,
    "memoryGiB": 8,
    "name": "ml.t3.large",
    "vcpuNum": 2
   },
   {
    "_defaultOrder": 2,
    "_isFastLaunch": false,
    "category": "General purpose",
    "gpuNum": 0,
    "hideHardwareSpecs": false,
    "memoryGiB": 16,
    "name": "ml.t3.xlarge",
    "vcpuNum": 4
   },
   {
    "_defaultOrder": 3,
    "_isFastLaunch": false,
    "category": "General purpose",
    "gpuNum": 0,
    "hideHardwareSpecs": false,
    "memoryGiB": 32,
    "name": "ml.t3.2xlarge",
    "vcpuNum": 8
   },
   {
    "_defaultOrder": 4,
    "_isFastLaunch": true,
    "category": "General purpose",
    "gpuNum": 0,
    "hideHardwareSpecs": false,
    "memoryGiB": 8,
    "name": "ml.m5.large",
    "vcpuNum": 2
   },
   {
    "_defaultOrder": 5,
    "_isFastLaunch": false,
    "category": "General purpose",
    "gpuNum": 0,
    "hideHardwareSpecs": false,
    "memoryGiB": 16,
    "name": "ml.m5.xlarge",
    "vcpuNum": 4
   },
   {
    "_defaultOrder": 6,
    "_isFastLaunch": false,
    "category": "General purpose",
    "gpuNum": 0,
    "hideHardwareSpecs": false,
    "memoryGiB": 32,
    "name": "ml.m5.2xlarge",
    "vcpuNum": 8
   },
   {
    "_defaultOrder": 7,
    "_isFastLaunch": false,
    "category": "General purpose",
    "gpuNum": 0,
    "hideHardwareSpecs": false,
    "memoryGiB": 64,
    "name": "ml.m5.4xlarge",
    "vcpuNum": 16
   },
   {
    "_defaultOrder": 8,
    "_isFastLaunch": false,
    "category": "General purpose",
    "gpuNum": 0,
    "hideHardwareSpecs": false,
    "memoryGiB": 128,
    "name": "ml.m5.8xlarge",
    "vcpuNum": 32
   },
   {
    "_defaultOrder": 9,
    "_isFastLaunch": false,
    "category": "General purpose",
    "gpuNum": 0,
    "hideHardwareSpecs": false,
    "memoryGiB": 192,
    "name": "ml.m5.12xlarge",
    "vcpuNum": 48
   },
   {
    "_defaultOrder": 10,
    "_isFastLaunch": false,
    "category": "General purpose",
    "gpuNum": 0,
    "hideHardwareSpecs": false,
    "memoryGiB": 256,
    "name": "ml.m5.16xlarge",
    "vcpuNum": 64
   },
   {
    "_defaultOrder": 11,
    "_isFastLaunch": false,
    "category": "General purpose",
    "gpuNum": 0,
    "hideHardwareSpecs": false,
    "memoryGiB": 384,
    "name": "ml.m5.24xlarge",
    "vcpuNum": 96
   },
   {
    "_defaultOrder": 12,
    "_isFastLaunch": false,
    "category": "General purpose",
    "gpuNum": 0,
    "hideHardwareSpecs": false,
    "memoryGiB": 8,
    "name": "ml.m5d.large",
    "vcpuNum": 2
   },
   {
    "_defaultOrder": 13,
    "_isFastLaunch": false,
    "category": "General purpose",
    "gpuNum": 0,
    "hideHardwareSpecs": false,
    "memoryGiB": 16,
    "name": "ml.m5d.xlarge",
    "vcpuNum": 4
   },
   {
    "_defaultOrder": 14,
    "_isFastLaunch": false,
    "category": "General purpose",
    "gpuNum": 0,
    "hideHardwareSpecs": false,
    "memoryGiB": 32,
    "name": "ml.m5d.2xlarge",
    "vcpuNum": 8
   },
   {
    "_defaultOrder": 15,
    "_isFastLaunch": false,
    "category": "General purpose",
    "gpuNum": 0,
    "hideHardwareSpecs": false,
    "memoryGiB": 64,
    "name": "ml.m5d.4xlarge",
    "vcpuNum": 16
   },
   {
    "_defaultOrder": 16,
    "_isFastLaunch": false,
    "category": "General purpose",
    "gpuNum": 0,
    "hideHardwareSpecs": false,
    "memoryGiB": 128,
    "name": "ml.m5d.8xlarge",
    "vcpuNum": 32
   },
   {
    "_defaultOrder": 17,
    "_isFastLaunch": false,
    "category": "General purpose",
    "gpuNum": 0,
    "hideHardwareSpecs": false,
    "memoryGiB": 192,
    "name": "ml.m5d.12xlarge",
    "vcpuNum": 48
   },
   {
    "_defaultOrder": 18,
    "_isFastLaunch": false,
    "category": "General purpose",
    "gpuNum": 0,
    "hideHardwareSpecs": false,
    "memoryGiB": 256,
    "name": "ml.m5d.16xlarge",
    "vcpuNum": 64
   },
   {
    "_defaultOrder": 19,
    "_isFastLaunch": false,
    "category": "General purpose",
    "gpuNum": 0,
    "hideHardwareSpecs": false,
    "memoryGiB": 384,
    "name": "ml.m5d.24xlarge",
    "vcpuNum": 96
   },
   {
    "_defaultOrder": 20,
    "_isFastLaunch": false,
    "category": "General purpose",
    "gpuNum": 0,
    "hideHardwareSpecs": true,
    "memoryGiB": 0,
    "name": "ml.geospatial.interactive",
    "supportedImageNames": [
     "sagemaker-geospatial-v1-0"
    ],
    "vcpuNum": 0
   },
   {
    "_defaultOrder": 21,
    "_isFastLaunch": true,
    "category": "Compute optimized",
    "gpuNum": 0,
    "hideHardwareSpecs": false,
    "memoryGiB": 4,
    "name": "ml.c5.large",
    "vcpuNum": 2
   },
   {
    "_defaultOrder": 22,
    "_isFastLaunch": false,
    "category": "Compute optimized",
    "gpuNum": 0,
    "hideHardwareSpecs": false,
    "memoryGiB": 8,
    "name": "ml.c5.xlarge",
    "vcpuNum": 4
   },
   {
    "_defaultOrder": 23,
    "_isFastLaunch": false,
    "category": "Compute optimized",
    "gpuNum": 0,
    "hideHardwareSpecs": false,
    "memoryGiB": 16,
    "name": "ml.c5.2xlarge",
    "vcpuNum": 8
   },
   {
    "_defaultOrder": 24,
    "_isFastLaunch": false,
    "category": "Compute optimized",
    "gpuNum": 0,
    "hideHardwareSpecs": false,
    "memoryGiB": 32,
    "name": "ml.c5.4xlarge",
    "vcpuNum": 16
   },
   {
    "_defaultOrder": 25,
    "_isFastLaunch": false,
    "category": "Compute optimized",
    "gpuNum": 0,
    "hideHardwareSpecs": false,
    "memoryGiB": 72,
    "name": "ml.c5.9xlarge",
    "vcpuNum": 36
   },
   {
    "_defaultOrder": 26,
    "_isFastLaunch": false,
    "category": "Compute optimized",
    "gpuNum": 0,
    "hideHardwareSpecs": false,
    "memoryGiB": 96,
    "name": "ml.c5.12xlarge",
    "vcpuNum": 48
   },
   {
    "_defaultOrder": 27,
    "_isFastLaunch": false,
    "category": "Compute optimized",
    "gpuNum": 0,
    "hideHardwareSpecs": false,
    "memoryGiB": 144,
    "name": "ml.c5.18xlarge",
    "vcpuNum": 72
   },
   {
    "_defaultOrder": 28,
    "_isFastLaunch": false,
    "category": "Compute optimized",
    "gpuNum": 0,
    "hideHardwareSpecs": false,
    "memoryGiB": 192,
    "name": "ml.c5.24xlarge",
    "vcpuNum": 96
   },
   {
    "_defaultOrder": 29,
    "_isFastLaunch": true,
    "category": "Accelerated computing",
    "gpuNum": 1,
    "hideHardwareSpecs": false,
    "memoryGiB": 16,
    "name": "ml.g4dn.xlarge",
    "vcpuNum": 4
   },
   {
    "_defaultOrder": 30,
    "_isFastLaunch": false,
    "category": "Accelerated computing",
    "gpuNum": 1,
    "hideHardwareSpecs": false,
    "memoryGiB": 32,
    "name": "ml.g4dn.2xlarge",
    "vcpuNum": 8
   },
   {
    "_defaultOrder": 31,
    "_isFastLaunch": false,
    "category": "Accelerated computing",
    "gpuNum": 1,
    "hideHardwareSpecs": false,
    "memoryGiB": 64,
    "name": "ml.g4dn.4xlarge",
    "vcpuNum": 16
   },
   {
    "_defaultOrder": 32,
    "_isFastLaunch": false,
    "category": "Accelerated computing",
    "gpuNum": 1,
    "hideHardwareSpecs": false,
    "memoryGiB": 128,
    "name": "ml.g4dn.8xlarge",
    "vcpuNum": 32
   },
   {
    "_defaultOrder": 33,
    "_isFastLaunch": false,
    "category": "Accelerated computing",
    "gpuNum": 4,
    "hideHardwareSpecs": false,
    "memoryGiB": 192,
    "name": "ml.g4dn.12xlarge",
    "vcpuNum": 48
   },
   {
    "_defaultOrder": 34,
    "_isFastLaunch": false,
    "category": "Accelerated computing",
    "gpuNum": 1,
    "hideHardwareSpecs": false,
    "memoryGiB": 256,
    "name": "ml.g4dn.16xlarge",
    "vcpuNum": 64
   },
   {
    "_defaultOrder": 35,
    "_isFastLaunch": false,
    "category": "Accelerated computing",
    "gpuNum": 1,
    "hideHardwareSpecs": false,
    "memoryGiB": 61,
    "name": "ml.p3.2xlarge",
    "vcpuNum": 8
   },
   {
    "_defaultOrder": 36,
    "_isFastLaunch": false,
    "category": "Accelerated computing",
    "gpuNum": 4,
    "hideHardwareSpecs": false,
    "memoryGiB": 244,
    "name": "ml.p3.8xlarge",
    "vcpuNum": 32
   },
   {
    "_defaultOrder": 37,
    "_isFastLaunch": false,
    "category": "Accelerated computing",
    "gpuNum": 8,
    "hideHardwareSpecs": false,
    "memoryGiB": 488,
    "name": "ml.p3.16xlarge",
    "vcpuNum": 64
   },
   {
    "_defaultOrder": 38,
    "_isFastLaunch": false,
    "category": "Accelerated computing",
    "gpuNum": 8,
    "hideHardwareSpecs": false,
    "memoryGiB": 768,
    "name": "ml.p3dn.24xlarge",
    "vcpuNum": 96
   },
   {
    "_defaultOrder": 39,
    "_isFastLaunch": false,
    "category": "Memory Optimized",
    "gpuNum": 0,
    "hideHardwareSpecs": false,
    "memoryGiB": 16,
    "name": "ml.r5.large",
    "vcpuNum": 2
   },
   {
    "_defaultOrder": 40,
    "_isFastLaunch": false,
    "category": "Memory Optimized",
    "gpuNum": 0,
    "hideHardwareSpecs": false,
    "memoryGiB": 32,
    "name": "ml.r5.xlarge",
    "vcpuNum": 4
   },
   {
    "_defaultOrder": 41,
    "_isFastLaunch": false,
    "category": "Memory Optimized",
    "gpuNum": 0,
    "hideHardwareSpecs": false,
    "memoryGiB": 64,
    "name": "ml.r5.2xlarge",
    "vcpuNum": 8
   },
   {
    "_defaultOrder": 42,
    "_isFastLaunch": false,
    "category": "Memory Optimized",
    "gpuNum": 0,
    "hideHardwareSpecs": false,
    "memoryGiB": 128,
    "name": "ml.r5.4xlarge",
    "vcpuNum": 16
   },
   {
    "_defaultOrder": 43,
    "_isFastLaunch": false,
    "category": "Memory Optimized",
    "gpuNum": 0,
    "hideHardwareSpecs": false,
    "memoryGiB": 256,
    "name": "ml.r5.8xlarge",
    "vcpuNum": 32
   },
   {
    "_defaultOrder": 44,
    "_isFastLaunch": false,
    "category": "Memory Optimized",
    "gpuNum": 0,
    "hideHardwareSpecs": false,
    "memoryGiB": 384,
    "name": "ml.r5.12xlarge",
    "vcpuNum": 48
   },
   {
    "_defaultOrder": 45,
    "_isFastLaunch": false,
    "category": "Memory Optimized",
    "gpuNum": 0,
    "hideHardwareSpecs": false,
    "memoryGiB": 512,
    "name": "ml.r5.16xlarge",
    "vcpuNum": 64
   },
   {
    "_defaultOrder": 46,
    "_isFastLaunch": false,
    "category": "Memory Optimized",
    "gpuNum": 0,
    "hideHardwareSpecs": false,
    "memoryGiB": 768,
    "name": "ml.r5.24xlarge",
    "vcpuNum": 96
   },
   {
    "_defaultOrder": 47,
    "_isFastLaunch": false,
    "category": "Accelerated computing",
    "gpuNum": 1,
    "hideHardwareSpecs": false,
    "memoryGiB": 16,
    "name": "ml.g5.xlarge",
    "vcpuNum": 4
   },
   {
    "_defaultOrder": 48,
    "_isFastLaunch": false,
    "category": "Accelerated computing",
    "gpuNum": 1,
    "hideHardwareSpecs": false,
    "memoryGiB": 32,
    "name": "ml.g5.2xlarge",
    "vcpuNum": 8
   },
   {
    "_defaultOrder": 49,
    "_isFastLaunch": false,
    "category": "Accelerated computing",
    "gpuNum": 1,
    "hideHardwareSpecs": false,
    "memoryGiB": 64,
    "name": "ml.g5.4xlarge",
    "vcpuNum": 16
   },
   {
    "_defaultOrder": 50,
    "_isFastLaunch": false,
    "category": "Accelerated computing",
    "gpuNum": 1,
    "hideHardwareSpecs": false,
    "memoryGiB": 128,
    "name": "ml.g5.8xlarge",
    "vcpuNum": 32
   },
   {
    "_defaultOrder": 51,
    "_isFastLaunch": false,
    "category": "Accelerated computing",
    "gpuNum": 1,
    "hideHardwareSpecs": false,
    "memoryGiB": 256,
    "name": "ml.g5.16xlarge",
    "vcpuNum": 64
   },
   {
    "_defaultOrder": 52,
    "_isFastLaunch": false,
    "category": "Accelerated computing",
    "gpuNum": 4,
    "hideHardwareSpecs": false,
    "memoryGiB": 192,
    "name": "ml.g5.12xlarge",
    "vcpuNum": 48
   },
   {
    "_defaultOrder": 53,
    "_isFastLaunch": false,
    "category": "Accelerated computing",
    "gpuNum": 4,
    "hideHardwareSpecs": false,
    "memoryGiB": 384,
    "name": "ml.g5.24xlarge",
    "vcpuNum": 96
   },
   {
    "_defaultOrder": 54,
    "_isFastLaunch": false,
    "category": "Accelerated computing",
    "gpuNum": 8,
    "hideHardwareSpecs": false,
    "memoryGiB": 768,
    "name": "ml.g5.48xlarge",
    "vcpuNum": 192
   },
   {
    "_defaultOrder": 55,
    "_isFastLaunch": false,
    "category": "Accelerated computing",
    "gpuNum": 8,
    "hideHardwareSpecs": false,
    "memoryGiB": 1152,
    "name": "ml.p4d.24xlarge",
    "vcpuNum": 96
   },
   {
    "_defaultOrder": 56,
    "_isFastLaunch": false,
    "category": "Accelerated computing",
    "gpuNum": 8,
    "hideHardwareSpecs": false,
    "memoryGiB": 1152,
    "name": "ml.p4de.24xlarge",
    "vcpuNum": 96
   },
   {
    "_defaultOrder": 57,
    "_isFastLaunch": false,
    "category": "Accelerated computing",
    "gpuNum": 0,
    "hideHardwareSpecs": false,
    "memoryGiB": 32,
    "name": "ml.trn1.2xlarge",
    "vcpuNum": 8
   },
   {
    "_defaultOrder": 58,
    "_isFastLaunch": false,
    "category": "Accelerated computing",
    "gpuNum": 0,
    "hideHardwareSpecs": false,
    "memoryGiB": 512,
    "name": "ml.trn1.32xlarge",
    "vcpuNum": 128
   },
   {
    "_defaultOrder": 59,
    "_isFastLaunch": false,
    "category": "Accelerated computing",
    "gpuNum": 0,
    "hideHardwareSpecs": false,
    "memoryGiB": 512,
    "name": "ml.trn1n.32xlarge",
    "vcpuNum": 128
   }
  ],
  "instance_type": "ml.t3.medium",
  "kernelspec": {
   "display_name": "Python 3 (Data Science 3.0)",
   "language": "python",
   "name": "python3__SAGEMAKER_INTERNAL__arn:aws:sagemaker:us-west-2:236514542706:image/sagemaker-data-science-310-v1"
  },
  "language_info": {
   "codemirror_mode": {
    "name": "ipython",
    "version": 3
   },
   "file_extension": ".py",
   "mimetype": "text/x-python",
   "name": "python",
   "nbconvert_exporter": "python",
   "pygments_lexer": "ipython3",
   "version": "3.10.6"
  }
 },
 "nbformat": 4,
 "nbformat_minor": 5
}
